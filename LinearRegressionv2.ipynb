{
 "cells": [
  {
   "cell_type": "code",
   "execution_count": 1,
   "metadata": {},
   "outputs": [],
   "source": [
    "import warnings\n",
    "warnings.filterwarnings('ignore')\n",
    "\n",
    "#Import libraries\n",
    "import pandas as pd\n",
    "import numpy as np\n",
    "import seaborn as sns\n",
    "import scipy\n",
    "from pandas_datareader import wb\n",
    "from datetime import datetime\n",
    "import matplotlib.pyplot as plt"
   ]
  },
  {
   "cell_type": "markdown",
   "metadata": {},
   "source": [
    "# **LINEAR REGRESSION**\n",
    "\n",
    "## **¿What is linear regression?**\n",
    "\n",
    "<font size=\"3\"> Linear regression is a linear model, e.g. a model that assumes a linear relationship between the input variables (x) and the single output variable (y). More specifically, that y can be calculated from a linear combination of the input variables (x). The equation for the 1 dimensional case is: \n",
    "    \n",
    "<br><br>\n",
    "\n",
    "<font size=\"5\"> \n",
    "\n",
    "$y = \\beta _0 + \\beta _1 * x$  \n",
    "\n",
    "<br>\n",
    "\n",
    "\n",
    "<font size=\"3\"> Let's suppose we have two variables x, y with the following values: </font>  <br>\n",
    "\n",
    "\n",
    "<font size=\"5\">\n",
    "    \n",
    "| x  | y |\n",
    "| -- | -- |\n",
    "| 5.3  | 5.8  |\n",
    "| 1.1  | 1.5  |\n",
    "| ...  | ...  |\n",
    "| 7.8  | 8.3  |\n",
    "\n",
    "<br>\n",
    "\n",
    "<font size=\"3\"> If we plot these points we get: <br>\n",
    "\n",
    "![This is an image](Nube_puntos.png)\n",
    "\n",
    "<font size=\"3\"> The straight line shows the relationship between both variables using the following equation:  <br>"
   ]
  },
  {
   "cell_type": "code",
   "execution_count": 1,
   "metadata": {},
   "outputs": [],
   "source": [
    "#Parameters to get the data from World Bank Database\n",
    "start = datetime(1990, 1, 1)\n",
    "end = datetime(2021, 12, 31)\n",
    "indicator_id1 = 'NY.GDP.PCAP.KD' #GDP per capita\n",
    "# indicator_id1 = 'NY.GDP.PCAP.PP.KD' #GDP per capita PPP\n",
    "indicator_id2 = 'SE.XPD.TOTL.GD.ZS' #Government expenditure on education, total (% of GDP)\n",
    "\n",
    "\n",
    "#Download data\n",
    "gdp_per_capita = wb.download(indicator=indicator_id1, start=start, end=end, country='all')\n",
    "gdp_per_capita.reset_index(inplace=True)\n",
    "\n",
    "education_spending = wb.download(indicator=indicator_id2, start=start, end=end, country = 'all')\n",
    "education_spending.reset_index(inplace=True)"
   ]
  },
  {
   "cell_type": "code",
   "execution_count": 2,
   "metadata": {},
   "outputs": [],
   "source": [
    "#Filter the data for only one year - so that we get cross sectional data\n",
    "gdp_per_capita_2018 = gdp_per_capita[gdp_per_capita['year']=='2018']\n",
    "education_spending_2018 = education_spending[education_spending['year']=='2018']"
   ]
  },
  {
   "cell_type": "code",
   "execution_count": 3,
   "metadata": {
    "scrolled": true
   },
   "outputs": [
    {
     "data": {
      "text/html": [
       "<div>\n",
       "<style scoped>\n",
       "    .dataframe tbody tr th:only-of-type {\n",
       "        vertical-align: middle;\n",
       "    }\n",
       "\n",
       "    .dataframe tbody tr th {\n",
       "        vertical-align: top;\n",
       "    }\n",
       "\n",
       "    .dataframe thead th {\n",
       "        text-align: right;\n",
       "    }\n",
       "</style>\n",
       "<table border=\"1\" class=\"dataframe\">\n",
       "  <thead>\n",
       "    <tr style=\"text-align: right;\">\n",
       "      <th></th>\n",
       "      <th>country</th>\n",
       "      <th>year</th>\n",
       "      <th>NY.GDP.PCAP.KD</th>\n",
       "    </tr>\n",
       "  </thead>\n",
       "  <tbody>\n",
       "    <tr>\n",
       "      <th>2</th>\n",
       "      <td>Africa Eastern and Southern</td>\n",
       "      <td>2018</td>\n",
       "      <td>1533.514183</td>\n",
       "    </tr>\n",
       "    <tr>\n",
       "      <th>33</th>\n",
       "      <td>Africa Western and Central</td>\n",
       "      <td>2018</td>\n",
       "      <td>1843.545758</td>\n",
       "    </tr>\n",
       "    <tr>\n",
       "      <th>64</th>\n",
       "      <td>Arab World</td>\n",
       "      <td>2018</td>\n",
       "      <td>6258.315712</td>\n",
       "    </tr>\n",
       "    <tr>\n",
       "      <th>95</th>\n",
       "      <td>Caribbean small states</td>\n",
       "      <td>2018</td>\n",
       "      <td>10032.486841</td>\n",
       "    </tr>\n",
       "    <tr>\n",
       "      <th>126</th>\n",
       "      <td>Central Europe and the Baltics</td>\n",
       "      <td>2018</td>\n",
       "      <td>14243.054242</td>\n",
       "    </tr>\n",
       "    <tr>\n",
       "      <th>...</th>\n",
       "      <td>...</td>\n",
       "      <td>...</td>\n",
       "      <td>...</td>\n",
       "    </tr>\n",
       "    <tr>\n",
       "      <th>8093</th>\n",
       "      <td>Virgin Islands (U.S.)</td>\n",
       "      <td>2018</td>\n",
       "      <td>35073.630657</td>\n",
       "    </tr>\n",
       "    <tr>\n",
       "      <th>8124</th>\n",
       "      <td>West Bank and Gaza</td>\n",
       "      <td>2018</td>\n",
       "      <td>3417.794408</td>\n",
       "    </tr>\n",
       "    <tr>\n",
       "      <th>8155</th>\n",
       "      <td>Yemen, Rep.</td>\n",
       "      <td>2018</td>\n",
       "      <td>1290.925239</td>\n",
       "    </tr>\n",
       "    <tr>\n",
       "      <th>8186</th>\n",
       "      <td>Zambia</td>\n",
       "      <td>2018</td>\n",
       "      <td>1368.601756</td>\n",
       "    </tr>\n",
       "    <tr>\n",
       "      <th>8217</th>\n",
       "      <td>Zimbabwe</td>\n",
       "      <td>2018</td>\n",
       "      <td>1529.026374</td>\n",
       "    </tr>\n",
       "  </tbody>\n",
       "</table>\n",
       "<p>266 rows × 3 columns</p>\n",
       "</div>"
      ],
      "text/plain": [
       "                             country  year  NY.GDP.PCAP.KD\n",
       "2        Africa Eastern and Southern  2018     1533.514183\n",
       "33        Africa Western and Central  2018     1843.545758\n",
       "64                        Arab World  2018     6258.315712\n",
       "95            Caribbean small states  2018    10032.486841\n",
       "126   Central Europe and the Baltics  2018    14243.054242\n",
       "...                              ...   ...             ...\n",
       "8093           Virgin Islands (U.S.)  2018    35073.630657\n",
       "8124              West Bank and Gaza  2018     3417.794408\n",
       "8155                     Yemen, Rep.  2018     1290.925239\n",
       "8186                          Zambia  2018     1368.601756\n",
       "8217                        Zimbabwe  2018     1529.026374\n",
       "\n",
       "[266 rows x 3 columns]"
      ]
     },
     "execution_count": 3,
     "metadata": {},
     "output_type": "execute_result"
    }
   ],
   "source": [
    "gdp_per_capita_2018"
   ]
  },
  {
   "cell_type": "code",
   "execution_count": 4,
   "metadata": {
    "scrolled": true
   },
   "outputs": [
    {
     "data": {
      "text/html": [
       "<div>\n",
       "<style scoped>\n",
       "    .dataframe tbody tr th:only-of-type {\n",
       "        vertical-align: middle;\n",
       "    }\n",
       "\n",
       "    .dataframe tbody tr th {\n",
       "        vertical-align: top;\n",
       "    }\n",
       "\n",
       "    .dataframe thead th {\n",
       "        text-align: right;\n",
       "    }\n",
       "</style>\n",
       "<table border=\"1\" class=\"dataframe\">\n",
       "  <thead>\n",
       "    <tr style=\"text-align: right;\">\n",
       "      <th></th>\n",
       "      <th>country</th>\n",
       "      <th>year</th>\n",
       "      <th>SE.XPD.TOTL.GD.ZS</th>\n",
       "    </tr>\n",
       "  </thead>\n",
       "  <tbody>\n",
       "    <tr>\n",
       "      <th>2</th>\n",
       "      <td>Africa Eastern and Southern</td>\n",
       "      <td>2018</td>\n",
       "      <td>4.951635</td>\n",
       "    </tr>\n",
       "    <tr>\n",
       "      <th>33</th>\n",
       "      <td>Africa Western and Central</td>\n",
       "      <td>2018</td>\n",
       "      <td>3.066335</td>\n",
       "    </tr>\n",
       "    <tr>\n",
       "      <th>64</th>\n",
       "      <td>Arab World</td>\n",
       "      <td>2018</td>\n",
       "      <td>NaN</td>\n",
       "    </tr>\n",
       "    <tr>\n",
       "      <th>95</th>\n",
       "      <td>Caribbean small states</td>\n",
       "      <td>2018</td>\n",
       "      <td>4.350025</td>\n",
       "    </tr>\n",
       "    <tr>\n",
       "      <th>126</th>\n",
       "      <td>Central Europe and the Baltics</td>\n",
       "      <td>2018</td>\n",
       "      <td>4.266920</td>\n",
       "    </tr>\n",
       "    <tr>\n",
       "      <th>...</th>\n",
       "      <td>...</td>\n",
       "      <td>...</td>\n",
       "      <td>...</td>\n",
       "    </tr>\n",
       "    <tr>\n",
       "      <th>8093</th>\n",
       "      <td>Virgin Islands (U.S.)</td>\n",
       "      <td>2018</td>\n",
       "      <td>NaN</td>\n",
       "    </tr>\n",
       "    <tr>\n",
       "      <th>8124</th>\n",
       "      <td>West Bank and Gaza</td>\n",
       "      <td>2018</td>\n",
       "      <td>5.318870</td>\n",
       "    </tr>\n",
       "    <tr>\n",
       "      <th>8155</th>\n",
       "      <td>Yemen, Rep.</td>\n",
       "      <td>2018</td>\n",
       "      <td>NaN</td>\n",
       "    </tr>\n",
       "    <tr>\n",
       "      <th>8186</th>\n",
       "      <td>Zambia</td>\n",
       "      <td>2018</td>\n",
       "      <td>4.739740</td>\n",
       "    </tr>\n",
       "    <tr>\n",
       "      <th>8217</th>\n",
       "      <td>Zimbabwe</td>\n",
       "      <td>2018</td>\n",
       "      <td>3.587280</td>\n",
       "    </tr>\n",
       "  </tbody>\n",
       "</table>\n",
       "<p>266 rows × 3 columns</p>\n",
       "</div>"
      ],
      "text/plain": [
       "                             country  year  SE.XPD.TOTL.GD.ZS\n",
       "2        Africa Eastern and Southern  2018           4.951635\n",
       "33        Africa Western and Central  2018           3.066335\n",
       "64                        Arab World  2018                NaN\n",
       "95            Caribbean small states  2018           4.350025\n",
       "126   Central Europe and the Baltics  2018           4.266920\n",
       "...                              ...   ...                ...\n",
       "8093           Virgin Islands (U.S.)  2018                NaN\n",
       "8124              West Bank and Gaza  2018           5.318870\n",
       "8155                     Yemen, Rep.  2018                NaN\n",
       "8186                          Zambia  2018           4.739740\n",
       "8217                        Zimbabwe  2018           3.587280\n",
       "\n",
       "[266 rows x 3 columns]"
      ]
     },
     "execution_count": 4,
     "metadata": {},
     "output_type": "execute_result"
    }
   ],
   "source": [
    "education_spending_2018"
   ]
  },
  {
   "cell_type": "code",
   "execution_count": 5,
   "metadata": {
    "scrolled": true
   },
   "outputs": [
    {
     "data": {
      "text/html": [
       "<div>\n",
       "<style scoped>\n",
       "    .dataframe tbody tr th:only-of-type {\n",
       "        vertical-align: middle;\n",
       "    }\n",
       "\n",
       "    .dataframe tbody tr th {\n",
       "        vertical-align: top;\n",
       "    }\n",
       "\n",
       "    .dataframe thead th {\n",
       "        text-align: right;\n",
       "    }\n",
       "</style>\n",
       "<table border=\"1\" class=\"dataframe\">\n",
       "  <thead>\n",
       "    <tr style=\"text-align: right;\">\n",
       "      <th></th>\n",
       "      <th>country</th>\n",
       "      <th>year</th>\n",
       "      <th>SE.XPD.TOTL.GD.ZS</th>\n",
       "      <th>NY.GDP.PCAP.KD</th>\n",
       "    </tr>\n",
       "  </thead>\n",
       "  <tbody>\n",
       "    <tr>\n",
       "      <th>0</th>\n",
       "      <td>Africa Eastern and Southern</td>\n",
       "      <td>2018</td>\n",
       "      <td>4.951635</td>\n",
       "      <td>1533.514183</td>\n",
       "    </tr>\n",
       "    <tr>\n",
       "      <th>1</th>\n",
       "      <td>Africa Western and Central</td>\n",
       "      <td>2018</td>\n",
       "      <td>3.066335</td>\n",
       "      <td>1843.545758</td>\n",
       "    </tr>\n",
       "    <tr>\n",
       "      <th>3</th>\n",
       "      <td>Caribbean small states</td>\n",
       "      <td>2018</td>\n",
       "      <td>4.350025</td>\n",
       "      <td>10032.486841</td>\n",
       "    </tr>\n",
       "    <tr>\n",
       "      <th>4</th>\n",
       "      <td>Central Europe and the Baltics</td>\n",
       "      <td>2018</td>\n",
       "      <td>4.266920</td>\n",
       "      <td>14243.054242</td>\n",
       "    </tr>\n",
       "    <tr>\n",
       "      <th>5</th>\n",
       "      <td>Early-demographic dividend</td>\n",
       "      <td>2018</td>\n",
       "      <td>3.979745</td>\n",
       "      <td>3521.783898</td>\n",
       "    </tr>\n",
       "    <tr>\n",
       "      <th>...</th>\n",
       "      <td>...</td>\n",
       "      <td>...</td>\n",
       "      <td>...</td>\n",
       "      <td>...</td>\n",
       "    </tr>\n",
       "    <tr>\n",
       "      <th>257</th>\n",
       "      <td>Uzbekistan</td>\n",
       "      <td>2018</td>\n",
       "      <td>5.900000</td>\n",
       "      <td>3047.308384</td>\n",
       "    </tr>\n",
       "    <tr>\n",
       "      <th>260</th>\n",
       "      <td>Vietnam</td>\n",
       "      <td>2018</td>\n",
       "      <td>4.167450</td>\n",
       "      <td>2456.791224</td>\n",
       "    </tr>\n",
       "    <tr>\n",
       "      <th>262</th>\n",
       "      <td>West Bank and Gaza</td>\n",
       "      <td>2018</td>\n",
       "      <td>5.318870</td>\n",
       "      <td>3417.794408</td>\n",
       "    </tr>\n",
       "    <tr>\n",
       "      <th>264</th>\n",
       "      <td>Zambia</td>\n",
       "      <td>2018</td>\n",
       "      <td>4.739740</td>\n",
       "      <td>1368.601756</td>\n",
       "    </tr>\n",
       "    <tr>\n",
       "      <th>265</th>\n",
       "      <td>Zimbabwe</td>\n",
       "      <td>2018</td>\n",
       "      <td>3.587280</td>\n",
       "      <td>1529.026374</td>\n",
       "    </tr>\n",
       "  </tbody>\n",
       "</table>\n",
       "<p>189 rows × 4 columns</p>\n",
       "</div>"
      ],
      "text/plain": [
       "                            country  year  SE.XPD.TOTL.GD.ZS  NY.GDP.PCAP.KD\n",
       "0       Africa Eastern and Southern  2018           4.951635     1533.514183\n",
       "1        Africa Western and Central  2018           3.066335     1843.545758\n",
       "3            Caribbean small states  2018           4.350025    10032.486841\n",
       "4    Central Europe and the Baltics  2018           4.266920    14243.054242\n",
       "5        Early-demographic dividend  2018           3.979745     3521.783898\n",
       "..                              ...   ...                ...             ...\n",
       "257                      Uzbekistan  2018           5.900000     3047.308384\n",
       "260                         Vietnam  2018           4.167450     2456.791224\n",
       "262              West Bank and Gaza  2018           5.318870     3417.794408\n",
       "264                          Zambia  2018           4.739740     1368.601756\n",
       "265                        Zimbabwe  2018           3.587280     1529.026374\n",
       "\n",
       "[189 rows x 4 columns]"
      ]
     },
     "execution_count": 5,
     "metadata": {},
     "output_type": "execute_result"
    }
   ],
   "source": [
    "#Merge the data into a single DataFrame\n",
    "df_TOTAL = pd.merge(education_spending_2018,gdp_per_capita_2018[['country',indicator_id1]], left_on='country',right_on='country', how='left')\n",
    "df_TOTAL.dropna(inplace=True)\n",
    "df_TOTAL"
   ]
  },
  {
   "cell_type": "code",
   "execution_count": 6,
   "metadata": {},
   "outputs": [],
   "source": [
    "#Filter using only country data - they start at 50 row\n",
    "df_countries = df_TOTAL.iloc[49:200]"
   ]
  },
  {
   "cell_type": "code",
   "execution_count": 7,
   "metadata": {},
   "outputs": [
    {
     "data": {
      "text/html": [
       "<div>\n",
       "<style scoped>\n",
       "    .dataframe tbody tr th:only-of-type {\n",
       "        vertical-align: middle;\n",
       "    }\n",
       "\n",
       "    .dataframe tbody tr th {\n",
       "        vertical-align: top;\n",
       "    }\n",
       "\n",
       "    .dataframe thead th {\n",
       "        text-align: right;\n",
       "    }\n",
       "</style>\n",
       "<table border=\"1\" class=\"dataframe\">\n",
       "  <thead>\n",
       "    <tr style=\"text-align: right;\">\n",
       "      <th></th>\n",
       "      <th>country</th>\n",
       "      <th>year</th>\n",
       "      <th>SE.XPD.TOTL.GD.ZS</th>\n",
       "      <th>NY.GDP.PCAP.KD</th>\n",
       "    </tr>\n",
       "  </thead>\n",
       "  <tbody>\n",
       "    <tr>\n",
       "      <th>59</th>\n",
       "      <td>Australia</td>\n",
       "      <td>2018</td>\n",
       "      <td>5.10789</td>\n",
       "      <td>58447.252651</td>\n",
       "    </tr>\n",
       "    <tr>\n",
       "      <th>60</th>\n",
       "      <td>Austria</td>\n",
       "      <td>2018</td>\n",
       "      <td>5.22536</td>\n",
       "      <td>46170.394891</td>\n",
       "    </tr>\n",
       "    <tr>\n",
       "      <th>61</th>\n",
       "      <td>Azerbaijan</td>\n",
       "      <td>2018</td>\n",
       "      <td>2.45543</td>\n",
       "      <td>5262.183805</td>\n",
       "    </tr>\n",
       "    <tr>\n",
       "      <th>62</th>\n",
       "      <td>Bahamas, The</td>\n",
       "      <td>2018</td>\n",
       "      <td>2.30952</td>\n",
       "      <td>32231.272584</td>\n",
       "    </tr>\n",
       "    <tr>\n",
       "      <th>65</th>\n",
       "      <td>Barbados</td>\n",
       "      <td>2018</td>\n",
       "      <td>5.42886</td>\n",
       "      <td>16838.728731</td>\n",
       "    </tr>\n",
       "    <tr>\n",
       "      <th>...</th>\n",
       "      <td>...</td>\n",
       "      <td>...</td>\n",
       "      <td>...</td>\n",
       "      <td>...</td>\n",
       "    </tr>\n",
       "    <tr>\n",
       "      <th>257</th>\n",
       "      <td>Uzbekistan</td>\n",
       "      <td>2018</td>\n",
       "      <td>5.90000</td>\n",
       "      <td>3047.308384</td>\n",
       "    </tr>\n",
       "    <tr>\n",
       "      <th>260</th>\n",
       "      <td>Vietnam</td>\n",
       "      <td>2018</td>\n",
       "      <td>4.16745</td>\n",
       "      <td>2456.791224</td>\n",
       "    </tr>\n",
       "    <tr>\n",
       "      <th>262</th>\n",
       "      <td>West Bank and Gaza</td>\n",
       "      <td>2018</td>\n",
       "      <td>5.31887</td>\n",
       "      <td>3417.794408</td>\n",
       "    </tr>\n",
       "    <tr>\n",
       "      <th>264</th>\n",
       "      <td>Zambia</td>\n",
       "      <td>2018</td>\n",
       "      <td>4.73974</td>\n",
       "      <td>1368.601756</td>\n",
       "    </tr>\n",
       "    <tr>\n",
       "      <th>265</th>\n",
       "      <td>Zimbabwe</td>\n",
       "      <td>2018</td>\n",
       "      <td>3.58728</td>\n",
       "      <td>1529.026374</td>\n",
       "    </tr>\n",
       "  </tbody>\n",
       "</table>\n",
       "<p>140 rows × 4 columns</p>\n",
       "</div>"
      ],
      "text/plain": [
       "                country  year  SE.XPD.TOTL.GD.ZS  NY.GDP.PCAP.KD\n",
       "59            Australia  2018            5.10789    58447.252651\n",
       "60              Austria  2018            5.22536    46170.394891\n",
       "61           Azerbaijan  2018            2.45543     5262.183805\n",
       "62         Bahamas, The  2018            2.30952    32231.272584\n",
       "65             Barbados  2018            5.42886    16838.728731\n",
       "..                  ...   ...                ...             ...\n",
       "257          Uzbekistan  2018            5.90000     3047.308384\n",
       "260             Vietnam  2018            4.16745     2456.791224\n",
       "262  West Bank and Gaza  2018            5.31887     3417.794408\n",
       "264              Zambia  2018            4.73974     1368.601756\n",
       "265            Zimbabwe  2018            3.58728     1529.026374\n",
       "\n",
       "[140 rows x 4 columns]"
      ]
     },
     "execution_count": 7,
     "metadata": {},
     "output_type": "execute_result"
    }
   ],
   "source": [
    "df_countries"
   ]
  },
  {
   "cell_type": "code",
   "execution_count": 8,
   "metadata": {},
   "outputs": [],
   "source": [
    "#Rename the columns\n",
    "df_countries.rename(columns={indicator_id2: 'Educatspend', indicator_id1: 'Gdppercapita'}, inplace=True)"
   ]
  },
  {
   "cell_type": "code",
   "execution_count": 9,
   "metadata": {
    "scrolled": true
   },
   "outputs": [
    {
     "data": {
      "image/png": "[encoded data removed]",
      "text/plain": [
       "<Figure size 720x360 with 1 Axes>"
      ]
     },
     "metadata": {
      "needs_background": "light"
     },
     "output_type": "display_data"
    }
   ],
   "source": [
    "#Plot the data\n",
    "fig = plt.figure(figsize=(10,5))\n",
    "ax1 = fig.add_subplot(1, 1, 1)\n",
    "ax1.scatter(df_countries['Educatspend'],df_countries['Gdppercapita'])\n",
    "plt.box(on=None)\n",
    "plt.show()"
   ]
  },
  {
   "cell_type": "markdown",
   "metadata": {},
   "source": [
    "## **¿Do we have a linear relationship here?**<br>\n",
    "\n",
    "<font size=\"3\">\n",
    "A linear relationship is not easily observerd. We can use the python library statsmodel to run Linear Regression. That library has the most useful statistics to analyze this data modelling technique. Let's watch:\n",
    "</font><br>"
   ]
  },
  {
   "cell_type": "code",
   "execution_count": 10,
   "metadata": {
    "scrolled": true
   },
   "outputs": [
    {
     "name": "stdout",
     "output_type": "stream",
     "text": [
      "LINEAR REGRESSION - MODEL1\n",
      "                            OLS Regression Results                            \n",
      "==============================================================================\n",
      "Dep. Variable:           Gdppercapita   R-squared:                       0.019\n",
      "Model:                            OLS   Adj. R-squared:                  0.012\n",
      "Method:                 Least Squares   F-statistic:                     2.634\n",
      "Date:                Fri, 01 Apr 2022   Prob (F-statistic):              0.107\n",
      "Time:                        09:54:52   Log-Likelihood:                -1584.7\n",
      "No. Observations:                 140   AIC:                             3173.\n",
      "Df Residuals:                     138   BIC:                             3179.\n",
      "Df Model:                           1                                         \n",
      "Covariance Type:            nonrobust                                         \n",
      "===============================================================================\n",
      "                  coef    std err          t      P>|t|      [0.025      0.975]\n",
      "-------------------------------------------------------------------------------\n",
      "Intercept    7352.7001   4795.452      1.533      0.127   -2129.364    1.68e+04\n",
      "Educatspend  1599.8715    985.848      1.623      0.107    -349.450    3549.193\n",
      "==============================================================================\n",
      "Omnibus:                       75.982   Durbin-Watson:                   1.549\n",
      "Prob(Omnibus):                  0.000   Jarque-Bera (JB):              256.261\n",
      "Skew:                           2.156   Prob(JB):                     2.26e-56\n",
      "Kurtosis:                       8.034   Cond. No.                         14.3\n",
      "==============================================================================\n",
      "\n",
      "Warnings:\n",
      "[1] Standard Errors assume that the covariance matrix of the errors is correctly specified.\n",
      "-------------------------------------------------------------\n"
     ]
    }
   ],
   "source": [
    "#Import the function formula.api\n",
    "import statsmodels.formula.api as sm\n",
    "\n",
    "#Create a linear model - model1\n",
    "model1 = 'Gdppercapita ~ Educatspend'\n",
    "lm1   = sm.ols(formula = model1, data = df_countries).fit()\n",
    "print('LINEAR REGRESSION - MODEL1')\n",
    "print(lm1.summary())\n",
    "print('-------------------------------------------------------------')"
   ]
  },
  {
   "cell_type": "markdown",
   "metadata": {},
   "source": [
    "## **¿What does all that data mean?**<br>\n",
    "\n",
    "<font size=\"3\">\n",
    "We got a lot of information when we ran our linear regression. Let's focus only on the most important: The coefficients (the estimates of  $\\beta _0$ and $\\beta _1$ and ), as well as their -$p$ and -$R$ squared values.\n",
    "</font><br><br>\n",
    "\n",
    "\n",
    "**Coefficients**<br><br>\n",
    "\n",
    "<font size=\"3\">\n",
    "The intercept  is about 7352 USD. This can be thought of as the baseline GDP per Capita. (Frequently, the intercept does not have a meaningful interpretation – that is okay.) The slope (the coefficient  for the Education Spending) is 1599.87. The interpretation of this coefficient is this: if a country spends 1% more of its GDP on education , its GDP per capita is expected to increase by 1599.87 USD on average.  \n",
    " </font><br>\n",
    " \n",
    " **p-values**<br><br>\n",
    "\n",
    "<font size=\"3\">\n",
    "The null hypothesis we are testing here is <br><br>   \n",
    "$H _0 : \\beta _1 = 0$<br><br>\n",
    "and the alternative is<br><br>\n",
    "$H _1 : \\beta _1 \\neq 0$<br><br>  \n",
    "    \n",
    "The $p$-value of $ \\beta _1$  (given under the column: $P > \\vert t \\vert $ ) is 0.127. Thus, it is not statistically significant at the 0.05 level, and we can not reject the null hypothesis. This implies that education spending as GDP percentage does explain the GDP per capita of a country.\n",
    "\n",
    "There is no perfect or exact way of setting a statisically significant  - value threshold. It really depends on your needs as a data professional.  - values are used to assess how accurate we think a specific coefficient is. How certain do you need your interpretation of your coefficients to be? Generally, 0.05 is a common heuristic but it is not a hard-line number. \n",
    "</font><br><br>\n",
    " \n",
    " **R-squared**<br><br>\n",
    "\n",
    "\n",
    "<font size=\"3\"> \n",
    "One of the key quantities that should be paid attention to while interpreting a regression table is the quantity $R$-squared. Note that the table shows $R$-squared and adjusted $R$-squared. We will focus on $R$-squared. This quantity is always going to be between 0 and 1. For the GDP per Capita vs. Education Spending model, this quantity is 0.019 = 1.9%. In the world, there is a large variation in GDP per Capita. This means different countries have different GDP per Capita.\n",
    "\n",
    "An $R$-squared of 1.9% in this linear model means that this observed variation in GDP per Capita is mostly due to random chance; we should probably look for another variable with higher explanatory powe. The higher the $R$-squared, the higher the percentage of observed variation that can be explained by the model. Since model1 only explains about 1.9% of the variation, this motivates us to investigate if factors other than Education Spending can be used to explain the GDP per Capita differences. Or if we should transform the variable Education Spending and see if it has a more powerful explanation of the variation on the GDP per capita. Let's do that with a logarithmic transformation:\n",
    "</font><br><br>"
   ]
  },
  {
   "cell_type": "code",
   "execution_count": 11,
   "metadata": {
    "scrolled": true
   },
   "outputs": [],
   "source": [
    "#Log transformation\n",
    "df_countries['ln_Gdppercapita'] = np.log(df_countries['Gdppercapita'])"
   ]
  },
  {
   "cell_type": "code",
   "execution_count": 12,
   "metadata": {},
   "outputs": [
    {
     "data": {
      "image/png": "[encoded data removed]",
      "text/plain": [
       "<Figure size 432x288 with 1 Axes>"
      ]
     },
     "metadata": {
      "needs_background": "light"
     },
     "output_type": "display_data"
    }
   ],
   "source": [
    "#Plot the data\n",
    "fig = plt.figure()\n",
    "ax1 = fig.add_subplot(1, 1, 1)\n",
    "ax1.scatter(df_countries['Educatspend'],df_countries['ln_Gdppercapita'])\n",
    "plt.box(on=None)\n",
    "plt.show()"
   ]
  },
  {
   "cell_type": "code",
   "execution_count": 13,
   "metadata": {
    "scrolled": false
   },
   "outputs": [
    {
     "name": "stdout",
     "output_type": "stream",
     "text": [
      "LINEAR REGRESSION - MODEL2\n",
      "                            OLS Regression Results                            \n",
      "==============================================================================\n",
      "Dep. Variable:        ln_Gdppercapita   R-squared:                       0.032\n",
      "Model:                            OLS   Adj. R-squared:                  0.025\n",
      "Method:                 Least Squares   F-statistic:                     4.633\n",
      "Date:                Fri, 01 Apr 2022   Prob (F-statistic):             0.0331\n",
      "Time:                        09:54:52   Log-Likelihood:                -247.00\n",
      "No. Observations:                 140   AIC:                             498.0\n",
      "Df Residuals:                     138   BIC:                             503.9\n",
      "Df Model:                           1                                         \n",
      "Covariance Type:            nonrobust                                         \n",
      "===============================================================================\n",
      "                  coef    std err          t      P>|t|      [0.025      0.975]\n",
      "-------------------------------------------------------------------------------\n",
      "Intercept       8.0029      0.340     23.560      0.000       7.331       8.675\n",
      "Educatspend     0.1503      0.070      2.153      0.033       0.012       0.288\n",
      "==============================================================================\n",
      "Omnibus:                       12.236   Durbin-Watson:                   1.598\n",
      "Prob(Omnibus):                  0.002   Jarque-Bera (JB):                4.416\n",
      "Skew:                          -0.008   Prob(JB):                        0.110\n",
      "Kurtosis:                       2.130   Cond. No.                         14.3\n",
      "==============================================================================\n",
      "\n",
      "Warnings:\n",
      "[1] Standard Errors assume that the covariance matrix of the errors is correctly specified.\n",
      "-------------------------------------------------------------\n"
     ]
    }
   ],
   "source": [
    "#Create a linear model - model2\n",
    "model2 = 'ln_Gdppercapita ~ Educatspend'\n",
    "lm2   = sm.ols(formula = model2, data = df_countries).fit()\n",
    "print('LINEAR REGRESSION - MODEL2')\n",
    "print(lm2.summary())\n",
    "print('-------------------------------------------------------------')"
   ]
  },
  {
   "cell_type": "markdown",
   "metadata": {},
   "source": [
    "<font size=\"3\">\n",
    "That was a very small improvement. <br><br>We should look for other variables or explore another problem. Let's see if GDP per capita has any relationship with life expectancy. You could probably think, that the richer the country the longer people live. Let's explore that problem:\n",
    "</font><br><br>"
   ]
  },
  {
   "cell_type": "code",
   "execution_count": 14,
   "metadata": {
    "scrolled": true
   },
   "outputs": [
    {
     "data": {
      "image/png": "[encoded data removed]",
      "text/plain": [
       "<Figure size 432x288 with 1 Axes>"
      ]
     },
     "metadata": {
      "needs_background": "light"
     },
     "output_type": "display_data"
    }
   ],
   "source": [
    "#Another indicator\n",
    "indicator_id3 = 'SP.DYN.LE00.IN' #Life expectacy\n",
    "\n",
    "#Download the data\n",
    "life_expectancy = wb.download(indicator=indicator_id3, start=start, end=end, country='all')\n",
    "life_expectancy.reset_index(inplace=True)\n",
    "life_expectancy_2018 = life_expectancy[life_expectancy['year']=='2018']\n",
    "\n",
    "df_TOTAL2 = pd.merge(life_expectancy_2018,gdp_per_capita_2018[['country','NY.GDP.PCAP.KD']], left_on='country',right_on='country', how='left')\n",
    "df_TOTAL2.dropna(inplace=True)\n",
    "df_countries2 = df_TOTAL2.iloc[49:200]\n",
    "df_countries2.rename(columns={'SP.DYN.LE00.IN': 'LifeExp', indicator_id1: 'Gdppercapita'}, inplace=True)\n",
    "df_countries2['ln_Gdppercapita'] = np.log(df_countries2['Gdppercapita'])\n",
    "\n",
    "#Hacer un gráfico de los puntos\n",
    "fig = plt.figure()\n",
    "ax1 = fig.add_subplot(1, 1, 1)\n",
    "ax1.scatter(df_countries2['LifeExp'],df_countries2['ln_Gdppercapita'])\n",
    "plt.box(on=None)\n",
    "plt.show()\n"
   ]
  },
  {
   "cell_type": "markdown",
   "metadata": {},
   "source": [
    "<font size=\"3\">\n",
    "Now the relationship looks much more linear than before. This looks promising! <br><br> Let's jump into modelling these variables immediately using linear regression.\n",
    "</font><br><br>"
   ]
  },
  {
   "cell_type": "code",
   "execution_count": 15,
   "metadata": {
    "scrolled": true
   },
   "outputs": [
    {
     "name": "stdout",
     "output_type": "stream",
     "text": [
      "LINEAR REGRESSION - MODEL3\n",
      "                            OLS Regression Results                            \n",
      "==============================================================================\n",
      "Dep. Variable:                LifeExp   R-squared:                       0.715\n",
      "Model:                            OLS   Adj. R-squared:                  0.713\n",
      "Method:                 Least Squares   F-statistic:                     373.2\n",
      "Date:                Fri, 01 Apr 2022   Prob (F-statistic):           2.05e-42\n",
      "Time:                        09:55:00   Log-Likelihood:                -427.29\n",
      "No. Observations:                 151   AIC:                             858.6\n",
      "Df Residuals:                     149   BIC:                             864.6\n",
      "Df Model:                           1                                         \n",
      "Covariance Type:            nonrobust                                         \n",
      "===================================================================================\n",
      "                      coef    std err          t      P>|t|      [0.025      0.975]\n",
      "-----------------------------------------------------------------------------------\n",
      "Intercept          32.3032      2.120     15.240      0.000      28.115      36.492\n",
      "ln_Gdppercapita     4.6297      0.240     19.318      0.000       4.156       5.103\n",
      "==============================================================================\n",
      "Omnibus:                       31.127   Durbin-Watson:                   2.236\n",
      "Prob(Omnibus):                  0.000   Jarque-Bera (JB):               47.370\n",
      "Skew:                          -1.067   Prob(JB):                     5.17e-11\n",
      "Kurtosis:                       4.726   Cond. No.                         56.5\n",
      "==============================================================================\n",
      "\n",
      "Warnings:\n",
      "[1] Standard Errors assume that the covariance matrix of the errors is correctly specified.\n",
      "-------------------------------------------------------------\n"
     ]
    }
   ],
   "source": [
    "#Create a linear model - model2\n",
    "model3 = 'LifeExp ~ ln_Gdppercapita'\n",
    "lm3   = sm.ols(formula = model3, data = df_countries2).fit()\n",
    "print('LINEAR REGRESSION - MODEL3')\n",
    "print(lm3.summary())\n",
    "print('-------------------------------------------------------------')"
   ]
  },
  {
   "cell_type": "markdown",
   "metadata": {},
   "source": [
    "<font size=\"3\">\n",
    "$R$-squared is much higher now around 71.5%.<br><br>\n",
    "\n",
    "The $p$-value of $ \\beta _1$  is 0.00. Thus, it is statistically significant at the 0.05 level, and we can reject the null hypothesis. This implies that Log of GDP per Capita does explain the Life Expectancy of the inhabitants of a country.<br><br>\n",
    "\n",
    "Let's dig a little deeper into the meaning of $R$-squared. Graphically you can say that $R$-squared shows how much better does the linear regression model explain the data, when compared to a model of the average. \n",
    "\n",
    "Recall that the formula for $R$-squared is the following:\n",
    "\n",
    "$R^2= 1 - \\frac{RSS}{TSS} $  \n",
    "\n",
    " \n",
    "Here RSS and TSS denote the Residual and Total Sum of Squares respectively. To understand the above formula carefully, look at the chart below where we plotted Life Expectancy vs. Log of GDP per Capita again.\n",
    "\n",
    "\n",
    "If you consider a naive model given by:<br><br>\n",
    "\n",
    "\n",
    "<div class=\"alert alert-block alert-info\">\n",
    "<font size=\"5\"> \n",
    "$$Life Expectancy = \\beta _0  + error$$ \n",
    "</font>  \n",
    "</div><br>\n",
    "\n",
    "the best guess for $\\beta _0$ is just the average Life Expectancy. This is given by the red line. The sum of the squares of the residuals here is called the Total Sum of Squares (TSS). R-squared measures how well the regression line of model3 (Life Expectancy vs. Log of GDP per Capita) given by the blue line, explains the observed variation as compared to the naive model. The sum of residual squares for this model is the RSS.\n",
    "\n",
    "</font><br>"
   ]
  },
  {
   "cell_type": "code",
   "execution_count": 16,
   "metadata": {
    "scrolled": true
   },
   "outputs": [
    {
     "data": {
      "image/png": "[encoded data removed]",
      "text/plain": [
       "<Figure size 360x360 with 1 Axes>"
      ]
     },
     "metadata": {
      "needs_background": "light"
     },
     "output_type": "display_data"
    }
   ],
   "source": [
    "#Plot the regression and the naive model\n",
    "sns.lmplot(x = 'ln_Gdppercapita', y = 'LifeExp', data = df_countries2, scatter_kws = {'color': (0/255,0/255,0/255)},line_kws = {'color': \"blue\"})\n",
    "plt.title(\"Log GDP per CAP vs. LIFE EXP\", fontsize=20, verticalalignment='bottom')\n",
    "plt.axhline(df_countries2['LifeExp'].mean(), ls='--',color = 'r')\n",
    "plt.xlabel(\"ln_Gdppercapita\")\n",
    "plt.ylabel(\"LifeExp\")\n",
    "plt.box(on=None);"
   ]
  },
  {
   "cell_type": "markdown",
   "metadata": {},
   "source": [
    "<font size=\"3\"> \n",
    "\n",
    "So far we have followed an example of linear regression without asking if there are some assumptions we need to check. Indeed there are a few. Some of the most important assumptions are:<br><br>\n",
    "\n",
    "***\n",
    "1. The mean value of the residuals is cero.\n",
    "2. The variance of the residuals is constant.\n",
    "3. The residuals are not auto-correlated.\n",
    "***\n",
    "\n",
    "In the classic linear regression, one assumption is that residuals are normal and indepently distributed. If that happens 1, 2 and 3 are ok.\n",
    "<br><br>\n",
    "\n",
    "\n",
    "In the following chart, we can check if the mean of the residuals is zero from visual inspection.\n",
    "</font><br>"
   ]
  },
  {
   "cell_type": "code",
   "execution_count": 25,
   "metadata": {
    "scrolled": false
   },
   "outputs": [
    {
     "data": {
      "image/png": "[encoded data removed]",
      "text/plain": [
       "<Figure size 432x288 with 1 Axes>"
      ]
     },
     "metadata": {
      "needs_background": "light"
     },
     "output_type": "display_data"
    }
   ],
   "source": [
    "#Plot the residuals\n",
    "plt.plot(lm3.resid,marker='o',linestyle='None',color='dimgrey');"
   ]
  },
  {
   "cell_type": "markdown",
   "metadata": {},
   "source": [
    "<font size=\"3\"> \n",
    "The mean seems to be around zero, but there is some skew in the data. Let's plot an histogram an watch if they look somehow normally distributed.\n",
    "</font><br>"
   ]
  },
  {
   "cell_type": "code",
   "execution_count": 32,
   "metadata": {
    "scrolled": true
   },
   "outputs": [
    {
     "data": {
      "image/png": "[encoded data removed]",
      "text/plain": [
       "<Figure size 432x288 with 1 Axes>"
      ]
     },
     "metadata": {
      "needs_background": "light"
     },
     "output_type": "display_data"
    }
   ],
   "source": [
    "#Plot the residuals in an histogram\n",
    "plt.hist(lm3.resid, \n",
    "    density=True,     # the histogram integrates to 1 \n",
    "                      # (so it can be compared to the normal distribution)\n",
    "    bins=100,         #  draw a histogram with 100 bins of equal width\n",
    "    label=\"residuals\" # label for legend\n",
    "    )\n",
    "\n",
    "# now plot the normal distribution for comparison\n",
    "xx = np.linspace(lm3.resid.min(), lm3.resid.max(), num=1000)\n",
    "plt.plot(xx, scipy.stats.norm.pdf(xx, loc=0.0, scale=np.sqrt(lm3.scale)),\n",
    "    label=\"normal distribution\")\n",
    "\n",
    "outliers = np.abs(lm3.resid)>4*np.sqrt(lm3.scale)\n",
    "\n",
    "sns.rugplot(lm3.resid[outliers],\n",
    "            color=\"red\", # otherwise the rugplot has the same color as the histogram\n",
    "            label=\"outliers\")\n",
    "plt.legend(loc=\"upper right\");"
   ]
  },
  {
   "cell_type": "markdown",
   "metadata": {},
   "source": [
    "<font size=\"3\"> \n",
    "One can plot the residuals using a probability plot as well. If the residuals are normally distributed they will perfectly fit on the red line in the following chart.\n",
    "</font><br>"
   ]
  },
  {
   "cell_type": "code",
   "execution_count": 37,
   "metadata": {
    "scrolled": true
   },
   "outputs": [
    {
     "data": {
      "image/png": "[encoded data removed]",
      "text/plain": [
       "<Figure size 720x360 with 1 Axes>"
      ]
     },
     "metadata": {
      "needs_background": "light"
     },
     "output_type": "display_data"
    }
   ],
   "source": [
    "#Probability Plot\n",
    "from scipy import stats\n",
    "\n",
    "fig, ax = plt.subplots(nrows=1, ncols=1,figsize=(10,5))\n",
    "stats.probplot(x=lm3.resid, dist = \"norm\", plot = ax)\n",
    "plt.show()"
   ]
  },
  {
   "cell_type": "markdown",
   "metadata": {},
   "source": [
    "<font size=\"3\"> \n",
    "To finish this topic we will show a way to identify which variables might me transformed, as we did we the logarithmic GDP per capita in this example. You can use the `boxcox statistics`. If this number is close to 1 you don't need to do anything. When it is close to zero, the logarithmic transformation is recomended. When it is closer to 0.5 you can use the square root transformation. When is closer to zero or negative, logarithmic transformation is a good choice.\n",
    "</font>"
   ]
  },
  {
   "cell_type": "code",
   "execution_count": 40,
   "metadata": {},
   "outputs": [
    {
     "data": {
      "text/plain": [
       "0.01"
      ]
     },
     "execution_count": 40,
     "metadata": {},
     "output_type": "execute_result"
    }
   ],
   "source": [
    "#Calculate boxcox statistic\n",
    "price,fitted_lambda = stats.boxcox(df_countries2['Gdppercapita'])\n",
    "round(fitted_lambda,2)"
   ]
  },
  {
   "cell_type": "markdown",
   "metadata": {},
   "source": [
    "<font size=\"3\"> \n",
    "<div class=\"alert alert-block alert-danger\">\n",
    "<b>Please remember:</b> Here the boxcox statistics is close to zero. It suggest a logarithmic transformation. We can corroborate that transformation using the probability plot we introduce before. \n",
    "</div>\n",
    "</font>"
   ]
  },
  {
   "cell_type": "code",
   "execution_count": 17,
   "metadata": {},
   "outputs": [
    {
     "data": {
      "image/png": "[encoded data removed]",
      "text/plain": [
       "<Figure size 720x360 with 2 Axes>"
      ]
     },
     "metadata": {
      "needs_background": "light"
     },
     "output_type": "display_data"
    }
   ],
   "source": [
    "from scipy import stats\n",
    "\n",
    "fig, ax = plt.subplots(nrows=1, ncols=2,figsize=(10,5))\n",
    "stats.probplot(x=df_countries2['Gdppercapita'], dist = \"norm\", plot = ax[0])\n",
    "stats.probplot(x=df_countries2['ln_Gdppercapita'], dist = \"norm\", plot = ax[1])\n",
    "plt.show()"
   ]
  },
  {
   "cell_type": "markdown",
   "metadata": {},
   "source": [
    "<font size=\"3\"> \n",
    "<div class=\"alert alert-block alert-success\">\n",
    "<b>ONE LAST THING:</b> To finish this topic about linear regression, we would like to show another library that handles these calculations. It is sklearn. Below we show and example on how to do linear regression using this package.\n",
    "</div>\n",
    "</font>\n"
   ]
  },
  {
   "cell_type": "code",
   "execution_count": 54,
   "metadata": {},
   "outputs": [
    {
     "name": "stdout",
     "output_type": "stream",
     "text": [
      "R2 = 0.7194112872739493\n",
      "R2 = 0.6886870566465438\n"
     ]
    }
   ],
   "source": [
    "from sklearn.linear_model import LinearRegression\n",
    "\n",
    "X = df_countries2['ln_Gdppercapita'].values\n",
    "y = df_countries2['LifeExp'].values\n",
    "\n",
    "X_train =  X[0:120].reshape(-1, 1)\n",
    "X_test = X[121:150].reshape(-1, 1)\n",
    "y_train= y[0:120].reshape(-1, 1)\n",
    "y_test = y[121:150].reshape(-1, 1)\n",
    "\n",
    "\n",
    "linear  = LinearRegression(normalize=True)\n",
    "linear.fit(X_train,y_train)\n",
    "print('R2 =',linear.score(X_train,y_train))\n",
    "print('R2 =',linear.score(X_test,y_test))"
   ]
  },
  {
   "cell_type": "code",
   "execution_count": 55,
   "metadata": {},
   "outputs": [
    {
     "name": "stdout",
     "output_type": "stream",
     "text": [
      "w1 = [[4.6746765]]\n",
      "w0 = [31.86238292]\n"
     ]
    }
   ],
   "source": [
    "print('w1 =',linear.coef_)\n",
    "print('w0 =',linear.intercept_)"
   ]
  },
  {
   "cell_type": "code",
   "execution_count": 57,
   "metadata": {},
   "outputs": [
    {
     "data": {
      "image/png": "[encoded data removed]",
      "text/plain": [
       "<Figure size 432x288 with 1 Axes>"
      ]
     },
     "metadata": {
      "needs_background": "light"
     },
     "output_type": "display_data"
    }
   ],
   "source": [
    "y_pred = linear.predict(X_test)\n",
    "\n",
    "plt.scatter(X_test, y_test,  color='black',label=r'test data')\n",
    "plt.scatter(X_train, y_train,  color='red',alpha=0.4,label=r'train data')\n",
    "plt.plot(X_test, y_pred, color='blue',label=r'prediction')\n",
    "plt.legend(loc='lower right')\n",
    "\n",
    "plt.xlabel(r'log GDP per Capita')\n",
    "plt.ylabel(r'Life Expectancy')\n",
    "\n",
    "plt.show()"
   ]
  },
  {
   "cell_type": "markdown",
   "metadata": {},
   "source": [
    "> What we have to learn to do, we learn by doing. \n",
    "\n",
    "Aristotle\n",
    "\n",
    "\n",
    "posts about quantitative finance, data science and emerging markets  <a href=\"http://earthdatascience.org\" target=\"_blank\">this link</a>.\n",
    "\n"
   ]
  }
 ],
 "metadata": {
  "kernelspec": {
   "display_name": "Python 3",
   "language": "python",
   "name": "python3"
  },
  "language_info": {
   "codemirror_mode": {
    "name": "ipython",
    "version": 3
   },
   "file_extension": ".py",
   "mimetype": "text/x-python",
   "name": "python",
   "nbconvert_exporter": "python",
   "pygments_lexer": "ipython3",
   "version": "3.7.1"
  }
 },
 "nbformat": 4,
 "nbformat_minor": 2
}
