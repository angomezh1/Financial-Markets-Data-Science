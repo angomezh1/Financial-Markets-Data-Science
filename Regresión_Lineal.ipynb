{
 "cells": [
  {
   "cell_type": "markdown",
   "metadata": {},
   "source": [
    "# **REGRESIÓN LINEAL**\n",
    "\n",
    "## **¿Qué es la regresión lineal?**\n",
    "\n",
    "<font size=\"3\"> La regresión lineal es una técnica que nos permite relacionar variables a partir de la ecuación \n",
    "de una recta. Recordemos que la ecuación de una recta viene dada por la siguiente expresión:\n",
    "</font>  <br><br>\n",
    "\n",
    "<font size=\"5\"> \n",
    "\n",
    "$y = \\beta _0 + \\beta _1 * x$  \n",
    "\n",
    "</font>  <br>\n",
    "\n",
    "\n",
    "<font size=\"3\"> Supongamos que tenemos dos variables x, y cuyos valores se pueden ver en la tabla de abajo </font>  <br>\n",
    "\n",
    "\n",
    "<font size=\"5\">\n",
    "    \n",
    "| x  | y |\n",
    "| -- | -- |\n",
    "| 5.3  | 5.8  |\n",
    "| 1.1  | 1.5  |\n",
    "| ...  | ...  |\n",
    "| 7.8  | 8.3  |\n",
    "\n",
    "</font>  <br>\n",
    "\n",
    "<font size=\"3\"> Si graficamos estos puntos obtenemos lo siguiente </font>  <br>\n",
    "\n",
    "![This is an image](Nube_puntos.png)\n",
    "\n",
    "\n",
    "\n",
    "<font size=\"3\"> La línea recta nos muestra la relación ambas variables a partir de la siguiente ecuación: </font>  <br>\n",
    "\n",
    "<div class=\"alert alert-block alert-info\">\n",
    "<font size=\"5\"> \n",
    "$$y _i = \\beta _0 + \\beta _1 * x _i$$\n",
    "</font>  \n",
    "</div><br>\n",
    "\n",
    "<font size=\"3\"> Uno podría decir que la variable Y depende de la variable X y que existe una relación lineal entre ambas. Esto últimos es importante, pues dos variables pueden tener una relación muy estrecha pero que no sea del tipo lineal. En este caso puede que la regresión lineal no sea el método más adecuado, a no ser que dichas variables se puedan transformar y que las variables transformadas si tengan efectivamente una relación lineal. \n",
    "</font>  <br>\n",
    "\n",
    "\n",
    "<font size=\"3\"> ¿Cómo se obtiene la recta? El procedimiento más utilizado se conoce como Mínimos Cuadrados Ordinarios (M.C.O)\n",
    "y se ilustra en la siguiente gráfica:\n",
    "</font>  <br>\n",
    "\n",
    "![This is an image](Linea_regresión.png)\n",
    "\n",
    "<font size=\"3\"> El método consiste en calcular la diferencia de cada punto respecto a la recta roja. Sumamos todas estas diferencia elevadas al cuadrado y vamos modificando los parámetros de la recta de forma tal que encontremos unos parámetros que minimicen esta suma.  \n",
    "</font>  <br>\n",
    "\n",
    "\n",
    "## **¿A qué tipo de datos aplicar la regresión lineal?**\n",
    "\n",
    "<font size=\"3\"> Normalmente usamos esta técnica en datos que se denominan de corte transversal. Esto significa que son datos que son tomados en un único momento del tiempo. En finanzas, muchos de los datos que usamos son de series de tiempo. Esto no quiere decir que no podamos usar la regresión lineal, sino que debemos tener algunos cuidados especiales. Como apenas estamos introduciendo el tema, es mejor utilizar datos de corte transversal.<br>     \n",
    "\n",
    "Podemos hacer uso de la base de datos del Banco Mundial que contiene muchas estadísticas interesantes. Es común escuchar que la educación es uno de los motores o determinantes del crecimiento económico. Parece entonces adecuado explorar si el gasto en educación como porcentaje del PIB tiene una relación estrecha con el Pib per cápita de un país. \n",
    "</font>  <br>\n",
    "\n",
    "<div class=\"alert alert-block alert-warning\">\n",
    "<font size=\"3\"> \n",
    "- X: Gasto en Educación como % del PIB<br>\n",
    "- Y: Pib per capita en términos PPP\n",
    "</font>  \n",
    "</div><br>\n",
    "</font>\n",
    "\n",
    "<font size=\"3\">\n",
    "A continuación vamos a ver cómo podemos acceder a esa información a través de la librería pandas_datareader. \n",
    "</font>"
   ]
  },
  {
   "cell_type": "code",
   "execution_count": 38,
   "metadata": {},
   "outputs": [],
   "source": [
    "import warnings\n",
    "warnings.filterwarnings('ignore')\n",
    "\n",
    "#Importar las librerías necesarias para descargar y visualizar datos\n",
    "import pandas as pd\n",
    "import numpy as np\n",
    "import seaborn as sns\n",
    "import scipy\n",
    "from pandas_datareader import wb\n",
    "from datetime import datetime\n",
    "import matplotlib.pyplot as plt\n",
    "\n",
    "#Parámetros de descarga de datos del Banco Mundial\n",
    "start = datetime(1990, 1, 1)\n",
    "end = datetime(2021, 12, 31)\n",
    "indicator_id1 = 'NY.GDP.PCAP.KD' #GDP per capita\n",
    "# indicator_id1 = 'NY.GDP.PCAP.PP.KD' #GDP per capita PPP\n",
    "indicator_id2 = 'SE.XPD.TOTL.GD.ZS' #Government expenditure on education, total (% of GDP)\n",
    "\n",
    "\n",
    "#Descarga de datos\n",
    "gdp_per_capita = wb.download(indicator=indicator_id1, start=start, end=end, country='all')\n",
    "gdp_per_capita.reset_index(inplace=True)\n",
    "\n",
    "education_spending = wb.download(indicator=indicator_id2, start=start, end=end, country = 'all')\n",
    "education_spending.reset_index(inplace=True)"
   ]
  },
  {
   "cell_type": "code",
   "execution_count": 39,
   "metadata": {},
   "outputs": [],
   "source": [
    "#Utilizar los datos de un sólo año para que sea corte transversal. Utilizamos 2018 arbitrariamente\n",
    "gdp_per_capita_2018 = gdp_per_capita[gdp_per_capita['year']=='2018']\n",
    "education_spending_2018 = education_spending[education_spending['year']=='2018']"
   ]
  },
  {
   "cell_type": "code",
   "execution_count": 40,
   "metadata": {
    "scrolled": true
   },
   "outputs": [
    {
     "data": {
      "text/html": [
       "<div>\n",
       "<style scoped>\n",
       "    .dataframe tbody tr th:only-of-type {\n",
       "        vertical-align: middle;\n",
       "    }\n",
       "\n",
       "    .dataframe tbody tr th {\n",
       "        vertical-align: top;\n",
       "    }\n",
       "\n",
       "    .dataframe thead th {\n",
       "        text-align: right;\n",
       "    }\n",
       "</style>\n",
       "<table border=\"1\" class=\"dataframe\">\n",
       "  <thead>\n",
       "    <tr style=\"text-align: right;\">\n",
       "      <th></th>\n",
       "      <th>country</th>\n",
       "      <th>year</th>\n",
       "      <th>NY.GDP.PCAP.KD</th>\n",
       "    </tr>\n",
       "  </thead>\n",
       "  <tbody>\n",
       "    <tr>\n",
       "      <th>2</th>\n",
       "      <td>Africa Eastern and Southern</td>\n",
       "      <td>2018</td>\n",
       "      <td>1533.514183</td>\n",
       "    </tr>\n",
       "    <tr>\n",
       "      <th>33</th>\n",
       "      <td>Africa Western and Central</td>\n",
       "      <td>2018</td>\n",
       "      <td>1843.545758</td>\n",
       "    </tr>\n",
       "    <tr>\n",
       "      <th>64</th>\n",
       "      <td>Arab World</td>\n",
       "      <td>2018</td>\n",
       "      <td>6258.315712</td>\n",
       "    </tr>\n",
       "    <tr>\n",
       "      <th>95</th>\n",
       "      <td>Caribbean small states</td>\n",
       "      <td>2018</td>\n",
       "      <td>10032.486841</td>\n",
       "    </tr>\n",
       "    <tr>\n",
       "      <th>126</th>\n",
       "      <td>Central Europe and the Baltics</td>\n",
       "      <td>2018</td>\n",
       "      <td>14243.054242</td>\n",
       "    </tr>\n",
       "    <tr>\n",
       "      <th>...</th>\n",
       "      <td>...</td>\n",
       "      <td>...</td>\n",
       "      <td>...</td>\n",
       "    </tr>\n",
       "    <tr>\n",
       "      <th>8093</th>\n",
       "      <td>Virgin Islands (U.S.)</td>\n",
       "      <td>2018</td>\n",
       "      <td>35073.630657</td>\n",
       "    </tr>\n",
       "    <tr>\n",
       "      <th>8124</th>\n",
       "      <td>West Bank and Gaza</td>\n",
       "      <td>2018</td>\n",
       "      <td>3417.794408</td>\n",
       "    </tr>\n",
       "    <tr>\n",
       "      <th>8155</th>\n",
       "      <td>Yemen, Rep.</td>\n",
       "      <td>2018</td>\n",
       "      <td>1290.925239</td>\n",
       "    </tr>\n",
       "    <tr>\n",
       "      <th>8186</th>\n",
       "      <td>Zambia</td>\n",
       "      <td>2018</td>\n",
       "      <td>1368.601756</td>\n",
       "    </tr>\n",
       "    <tr>\n",
       "      <th>8217</th>\n",
       "      <td>Zimbabwe</td>\n",
       "      <td>2018</td>\n",
       "      <td>1529.026374</td>\n",
       "    </tr>\n",
       "  </tbody>\n",
       "</table>\n",
       "<p>266 rows × 3 columns</p>\n",
       "</div>"
      ],
      "text/plain": [
       "                             country  year  NY.GDP.PCAP.KD\n",
       "2        Africa Eastern and Southern  2018     1533.514183\n",
       "33        Africa Western and Central  2018     1843.545758\n",
       "64                        Arab World  2018     6258.315712\n",
       "95            Caribbean small states  2018    10032.486841\n",
       "126   Central Europe and the Baltics  2018    14243.054242\n",
       "...                              ...   ...             ...\n",
       "8093           Virgin Islands (U.S.)  2018    35073.630657\n",
       "8124              West Bank and Gaza  2018     3417.794408\n",
       "8155                     Yemen, Rep.  2018     1290.925239\n",
       "8186                          Zambia  2018     1368.601756\n",
       "8217                        Zimbabwe  2018     1529.026374\n",
       "\n",
       "[266 rows x 3 columns]"
      ]
     },
     "execution_count": 40,
     "metadata": {},
     "output_type": "execute_result"
    }
   ],
   "source": [
    "gdp_per_capita_2018"
   ]
  },
  {
   "cell_type": "code",
   "execution_count": 41,
   "metadata": {
    "scrolled": true
   },
   "outputs": [
    {
     "data": {
      "text/html": [
       "<div>\n",
       "<style scoped>\n",
       "    .dataframe tbody tr th:only-of-type {\n",
       "        vertical-align: middle;\n",
       "    }\n",
       "\n",
       "    .dataframe tbody tr th {\n",
       "        vertical-align: top;\n",
       "    }\n",
       "\n",
       "    .dataframe thead th {\n",
       "        text-align: right;\n",
       "    }\n",
       "</style>\n",
       "<table border=\"1\" class=\"dataframe\">\n",
       "  <thead>\n",
       "    <tr style=\"text-align: right;\">\n",
       "      <th></th>\n",
       "      <th>country</th>\n",
       "      <th>year</th>\n",
       "      <th>SE.XPD.TOTL.GD.ZS</th>\n",
       "    </tr>\n",
       "  </thead>\n",
       "  <tbody>\n",
       "    <tr>\n",
       "      <th>2</th>\n",
       "      <td>Africa Eastern and Southern</td>\n",
       "      <td>2018</td>\n",
       "      <td>4.951635</td>\n",
       "    </tr>\n",
       "    <tr>\n",
       "      <th>33</th>\n",
       "      <td>Africa Western and Central</td>\n",
       "      <td>2018</td>\n",
       "      <td>3.066335</td>\n",
       "    </tr>\n",
       "    <tr>\n",
       "      <th>64</th>\n",
       "      <td>Arab World</td>\n",
       "      <td>2018</td>\n",
       "      <td>NaN</td>\n",
       "    </tr>\n",
       "    <tr>\n",
       "      <th>95</th>\n",
       "      <td>Caribbean small states</td>\n",
       "      <td>2018</td>\n",
       "      <td>4.350025</td>\n",
       "    </tr>\n",
       "    <tr>\n",
       "      <th>126</th>\n",
       "      <td>Central Europe and the Baltics</td>\n",
       "      <td>2018</td>\n",
       "      <td>4.266920</td>\n",
       "    </tr>\n",
       "    <tr>\n",
       "      <th>...</th>\n",
       "      <td>...</td>\n",
       "      <td>...</td>\n",
       "      <td>...</td>\n",
       "    </tr>\n",
       "    <tr>\n",
       "      <th>8093</th>\n",
       "      <td>Virgin Islands (U.S.)</td>\n",
       "      <td>2018</td>\n",
       "      <td>NaN</td>\n",
       "    </tr>\n",
       "    <tr>\n",
       "      <th>8124</th>\n",
       "      <td>West Bank and Gaza</td>\n",
       "      <td>2018</td>\n",
       "      <td>5.318870</td>\n",
       "    </tr>\n",
       "    <tr>\n",
       "      <th>8155</th>\n",
       "      <td>Yemen, Rep.</td>\n",
       "      <td>2018</td>\n",
       "      <td>NaN</td>\n",
       "    </tr>\n",
       "    <tr>\n",
       "      <th>8186</th>\n",
       "      <td>Zambia</td>\n",
       "      <td>2018</td>\n",
       "      <td>4.739740</td>\n",
       "    </tr>\n",
       "    <tr>\n",
       "      <th>8217</th>\n",
       "      <td>Zimbabwe</td>\n",
       "      <td>2018</td>\n",
       "      <td>3.587280</td>\n",
       "    </tr>\n",
       "  </tbody>\n",
       "</table>\n",
       "<p>266 rows × 3 columns</p>\n",
       "</div>"
      ],
      "text/plain": [
       "                             country  year  SE.XPD.TOTL.GD.ZS\n",
       "2        Africa Eastern and Southern  2018           4.951635\n",
       "33        Africa Western and Central  2018           3.066335\n",
       "64                        Arab World  2018                NaN\n",
       "95            Caribbean small states  2018           4.350025\n",
       "126   Central Europe and the Baltics  2018           4.266920\n",
       "...                              ...   ...                ...\n",
       "8093           Virgin Islands (U.S.)  2018                NaN\n",
       "8124              West Bank and Gaza  2018           5.318870\n",
       "8155                     Yemen, Rep.  2018                NaN\n",
       "8186                          Zambia  2018           4.739740\n",
       "8217                        Zimbabwe  2018           3.587280\n",
       "\n",
       "[266 rows x 3 columns]"
      ]
     },
     "execution_count": 41,
     "metadata": {},
     "output_type": "execute_result"
    }
   ],
   "source": [
    "education_spending_2018"
   ]
  },
  {
   "cell_type": "code",
   "execution_count": 42,
   "metadata": {
    "scrolled": true
   },
   "outputs": [
    {
     "data": {
      "text/html": [
       "<div>\n",
       "<style scoped>\n",
       "    .dataframe tbody tr th:only-of-type {\n",
       "        vertical-align: middle;\n",
       "    }\n",
       "\n",
       "    .dataframe tbody tr th {\n",
       "        vertical-align: top;\n",
       "    }\n",
       "\n",
       "    .dataframe thead th {\n",
       "        text-align: right;\n",
       "    }\n",
       "</style>\n",
       "<table border=\"1\" class=\"dataframe\">\n",
       "  <thead>\n",
       "    <tr style=\"text-align: right;\">\n",
       "      <th></th>\n",
       "      <th>country</th>\n",
       "      <th>year</th>\n",
       "      <th>SE.XPD.TOTL.GD.ZS</th>\n",
       "      <th>NY.GDP.PCAP.KD</th>\n",
       "    </tr>\n",
       "  </thead>\n",
       "  <tbody>\n",
       "    <tr>\n",
       "      <th>0</th>\n",
       "      <td>Africa Eastern and Southern</td>\n",
       "      <td>2018</td>\n",
       "      <td>4.951635</td>\n",
       "      <td>1533.514183</td>\n",
       "    </tr>\n",
       "    <tr>\n",
       "      <th>1</th>\n",
       "      <td>Africa Western and Central</td>\n",
       "      <td>2018</td>\n",
       "      <td>3.066335</td>\n",
       "      <td>1843.545758</td>\n",
       "    </tr>\n",
       "    <tr>\n",
       "      <th>3</th>\n",
       "      <td>Caribbean small states</td>\n",
       "      <td>2018</td>\n",
       "      <td>4.350025</td>\n",
       "      <td>10032.486841</td>\n",
       "    </tr>\n",
       "    <tr>\n",
       "      <th>4</th>\n",
       "      <td>Central Europe and the Baltics</td>\n",
       "      <td>2018</td>\n",
       "      <td>4.266920</td>\n",
       "      <td>14243.054242</td>\n",
       "    </tr>\n",
       "    <tr>\n",
       "      <th>5</th>\n",
       "      <td>Early-demographic dividend</td>\n",
       "      <td>2018</td>\n",
       "      <td>3.979745</td>\n",
       "      <td>3521.783898</td>\n",
       "    </tr>\n",
       "    <tr>\n",
       "      <th>...</th>\n",
       "      <td>...</td>\n",
       "      <td>...</td>\n",
       "      <td>...</td>\n",
       "      <td>...</td>\n",
       "    </tr>\n",
       "    <tr>\n",
       "      <th>257</th>\n",
       "      <td>Uzbekistan</td>\n",
       "      <td>2018</td>\n",
       "      <td>5.900000</td>\n",
       "      <td>3047.308384</td>\n",
       "    </tr>\n",
       "    <tr>\n",
       "      <th>260</th>\n",
       "      <td>Vietnam</td>\n",
       "      <td>2018</td>\n",
       "      <td>4.167450</td>\n",
       "      <td>2456.791224</td>\n",
       "    </tr>\n",
       "    <tr>\n",
       "      <th>262</th>\n",
       "      <td>West Bank and Gaza</td>\n",
       "      <td>2018</td>\n",
       "      <td>5.318870</td>\n",
       "      <td>3417.794408</td>\n",
       "    </tr>\n",
       "    <tr>\n",
       "      <th>264</th>\n",
       "      <td>Zambia</td>\n",
       "      <td>2018</td>\n",
       "      <td>4.739740</td>\n",
       "      <td>1368.601756</td>\n",
       "    </tr>\n",
       "    <tr>\n",
       "      <th>265</th>\n",
       "      <td>Zimbabwe</td>\n",
       "      <td>2018</td>\n",
       "      <td>3.587280</td>\n",
       "      <td>1529.026374</td>\n",
       "    </tr>\n",
       "  </tbody>\n",
       "</table>\n",
       "<p>189 rows × 4 columns</p>\n",
       "</div>"
      ],
      "text/plain": [
       "                            country  year  SE.XPD.TOTL.GD.ZS  NY.GDP.PCAP.KD\n",
       "0       Africa Eastern and Southern  2018           4.951635     1533.514183\n",
       "1        Africa Western and Central  2018           3.066335     1843.545758\n",
       "3            Caribbean small states  2018           4.350025    10032.486841\n",
       "4    Central Europe and the Baltics  2018           4.266920    14243.054242\n",
       "5        Early-demographic dividend  2018           3.979745     3521.783898\n",
       "..                              ...   ...                ...             ...\n",
       "257                      Uzbekistan  2018           5.900000     3047.308384\n",
       "260                         Vietnam  2018           4.167450     2456.791224\n",
       "262              West Bank and Gaza  2018           5.318870     3417.794408\n",
       "264                          Zambia  2018           4.739740     1368.601756\n",
       "265                        Zimbabwe  2018           3.587280     1529.026374\n",
       "\n",
       "[189 rows x 4 columns]"
      ]
     },
     "execution_count": 42,
     "metadata": {},
     "output_type": "execute_result"
    }
   ],
   "source": [
    "#Unir los datos en un solo DataFrame\n",
    "df_TOTAL = pd.merge(education_spending_2018,gdp_per_capita_2018[['country',indicator_id1]], left_on='country',right_on='country', how='left')\n",
    "df_TOTAL.dropna(inplace=True)\n",
    "df_TOTAL"
   ]
  },
  {
   "cell_type": "code",
   "execution_count": 43,
   "metadata": {},
   "outputs": [],
   "source": [
    "#Filtrar usando sólo países y no las regiones que salen al principio\n",
    "df_countries = df_TOTAL.iloc[49:200]"
   ]
  },
  {
   "cell_type": "code",
   "execution_count": 44,
   "metadata": {},
   "outputs": [
    {
     "data": {
      "text/html": [
       "<div>\n",
       "<style scoped>\n",
       "    .dataframe tbody tr th:only-of-type {\n",
       "        vertical-align: middle;\n",
       "    }\n",
       "\n",
       "    .dataframe tbody tr th {\n",
       "        vertical-align: top;\n",
       "    }\n",
       "\n",
       "    .dataframe thead th {\n",
       "        text-align: right;\n",
       "    }\n",
       "</style>\n",
       "<table border=\"1\" class=\"dataframe\">\n",
       "  <thead>\n",
       "    <tr style=\"text-align: right;\">\n",
       "      <th></th>\n",
       "      <th>country</th>\n",
       "      <th>year</th>\n",
       "      <th>SE.XPD.TOTL.GD.ZS</th>\n",
       "      <th>NY.GDP.PCAP.KD</th>\n",
       "    </tr>\n",
       "  </thead>\n",
       "  <tbody>\n",
       "    <tr>\n",
       "      <th>59</th>\n",
       "      <td>Australia</td>\n",
       "      <td>2018</td>\n",
       "      <td>5.10789</td>\n",
       "      <td>58447.252651</td>\n",
       "    </tr>\n",
       "    <tr>\n",
       "      <th>60</th>\n",
       "      <td>Austria</td>\n",
       "      <td>2018</td>\n",
       "      <td>5.22536</td>\n",
       "      <td>46170.394891</td>\n",
       "    </tr>\n",
       "    <tr>\n",
       "      <th>61</th>\n",
       "      <td>Azerbaijan</td>\n",
       "      <td>2018</td>\n",
       "      <td>2.45543</td>\n",
       "      <td>5262.183805</td>\n",
       "    </tr>\n",
       "    <tr>\n",
       "      <th>62</th>\n",
       "      <td>Bahamas, The</td>\n",
       "      <td>2018</td>\n",
       "      <td>2.30952</td>\n",
       "      <td>32231.272584</td>\n",
       "    </tr>\n",
       "    <tr>\n",
       "      <th>65</th>\n",
       "      <td>Barbados</td>\n",
       "      <td>2018</td>\n",
       "      <td>5.42886</td>\n",
       "      <td>16838.728731</td>\n",
       "    </tr>\n",
       "    <tr>\n",
       "      <th>...</th>\n",
       "      <td>...</td>\n",
       "      <td>...</td>\n",
       "      <td>...</td>\n",
       "      <td>...</td>\n",
       "    </tr>\n",
       "    <tr>\n",
       "      <th>257</th>\n",
       "      <td>Uzbekistan</td>\n",
       "      <td>2018</td>\n",
       "      <td>5.90000</td>\n",
       "      <td>3047.308384</td>\n",
       "    </tr>\n",
       "    <tr>\n",
       "      <th>260</th>\n",
       "      <td>Vietnam</td>\n",
       "      <td>2018</td>\n",
       "      <td>4.16745</td>\n",
       "      <td>2456.791224</td>\n",
       "    </tr>\n",
       "    <tr>\n",
       "      <th>262</th>\n",
       "      <td>West Bank and Gaza</td>\n",
       "      <td>2018</td>\n",
       "      <td>5.31887</td>\n",
       "      <td>3417.794408</td>\n",
       "    </tr>\n",
       "    <tr>\n",
       "      <th>264</th>\n",
       "      <td>Zambia</td>\n",
       "      <td>2018</td>\n",
       "      <td>4.73974</td>\n",
       "      <td>1368.601756</td>\n",
       "    </tr>\n",
       "    <tr>\n",
       "      <th>265</th>\n",
       "      <td>Zimbabwe</td>\n",
       "      <td>2018</td>\n",
       "      <td>3.58728</td>\n",
       "      <td>1529.026374</td>\n",
       "    </tr>\n",
       "  </tbody>\n",
       "</table>\n",
       "<p>140 rows × 4 columns</p>\n",
       "</div>"
      ],
      "text/plain": [
       "                country  year  SE.XPD.TOTL.GD.ZS  NY.GDP.PCAP.KD\n",
       "59            Australia  2018            5.10789    58447.252651\n",
       "60              Austria  2018            5.22536    46170.394891\n",
       "61           Azerbaijan  2018            2.45543     5262.183805\n",
       "62         Bahamas, The  2018            2.30952    32231.272584\n",
       "65             Barbados  2018            5.42886    16838.728731\n",
       "..                  ...   ...                ...             ...\n",
       "257          Uzbekistan  2018            5.90000     3047.308384\n",
       "260             Vietnam  2018            4.16745     2456.791224\n",
       "262  West Bank and Gaza  2018            5.31887     3417.794408\n",
       "264              Zambia  2018            4.73974     1368.601756\n",
       "265            Zimbabwe  2018            3.58728     1529.026374\n",
       "\n",
       "[140 rows x 4 columns]"
      ]
     },
     "execution_count": 44,
     "metadata": {},
     "output_type": "execute_result"
    }
   ],
   "source": [
    "df_countries"
   ]
  },
  {
   "cell_type": "code",
   "execution_count": 46,
   "metadata": {},
   "outputs": [],
   "source": [
    "#Cambiar el nombre de las columna\n",
    "df_countries.rename(columns={indicator_id2: 'GastoEduc', indicator_id1: 'Pibpercap'}, inplace=True)"
   ]
  },
  {
   "cell_type": "code",
   "execution_count": 47,
   "metadata": {
    "scrolled": true
   },
   "outputs": [
    {
     "data": {
      "image/png": "[encoded data removed]",
      "text/plain": [
       "<Figure size 720x360 with 1 Axes>"
      ]
     },
     "metadata": {
      "needs_background": "light"
     },
     "output_type": "display_data"
    }
   ],
   "source": [
    "#Hacer un gráfico de los puntos\n",
    "fig = plt.figure(figsize=(10,5))\n",
    "ax1 = fig.add_subplot(1, 1, 1)\n",
    "ax1.scatter(df_countries['GastoEduc'],df_countries['Pibpercap'])\n",
    "plt.box(on=None)\n",
    "plt.show()"
   ]
  },
  {
   "cell_type": "markdown",
   "metadata": {},
   "source": [
    "<font size=\"3\">\n",
    "Aunque se podría inferir una relación creciente entre el gasto en educación como porcentaje del PIB y el PIB per cápita, no es del todo clara. En Python podemos utilizar la librería statsmodels para hacer regresiones lineales. Esta librería nos permite visualizar las principales estadísticas que resultan al aplicar esta técnica de modelación de datos. Veamos:\n",
    "</font>"
   ]
  },
  {
   "cell_type": "code",
   "execution_count": 9,
   "metadata": {
    "scrolled": true
   },
   "outputs": [
    {
     "name": "stdout",
     "output_type": "stream",
     "text": [
      "REGRESIÓN LINEAL CLÁSICA - MODELO1\n",
      "                            OLS Regression Results                            \n",
      "==============================================================================\n",
      "Dep. Variable:              Pibpercap   R-squared:                       0.019\n",
      "Model:                            OLS   Adj. R-squared:                  0.012\n",
      "Method:                 Least Squares   F-statistic:                     2.634\n",
      "Date:                Tue, 22 Mar 2022   Prob (F-statistic):              0.107\n",
      "Time:                        13:59:07   Log-Likelihood:                -1584.7\n",
      "No. Observations:                 140   AIC:                             3173.\n",
      "Df Residuals:                     138   BIC:                             3179.\n",
      "Df Model:                           1                                         \n",
      "Covariance Type:            nonrobust                                         \n",
      "==============================================================================\n",
      "                 coef    std err          t      P>|t|      [0.025      0.975]\n",
      "------------------------------------------------------------------------------\n",
      "Intercept   7352.7001   4795.452      1.533      0.127   -2129.364    1.68e+04\n",
      "GastoEduc   1599.8715    985.848      1.623      0.107    -349.450    3549.193\n",
      "==============================================================================\n",
      "Omnibus:                       75.982   Durbin-Watson:                   1.549\n",
      "Prob(Omnibus):                  0.000   Jarque-Bera (JB):              256.261\n",
      "Skew:                           2.156   Prob(JB):                     2.26e-56\n",
      "Kurtosis:                       8.034   Cond. No.                         14.3\n",
      "==============================================================================\n",
      "\n",
      "Warnings:\n",
      "[1] Standard Errors assume that the covariance matrix of the errors is correctly specified.\n",
      "-------------------------------------------------------------\n"
     ]
    }
   ],
   "source": [
    "import statsmodels.formula.api as sm\n",
    "model1 = 'Pibpercap ~ GastoEduc'\n",
    "lm1   = sm.ols(formula = model1, data = df_countries).fit()\n",
    "print('REGRESIÓN LINEAL CLÁSICA - MODELO1')\n",
    "print(lm1.summary())\n",
    "print('-------------------------------------------------------------')"
   ]
  },
  {
   "cell_type": "code",
   "execution_count": 10,
   "metadata": {
    "scrolled": true
   },
   "outputs": [],
   "source": [
    "df_countries['ln_Pibpercap'] = np.log(df_countries['Pibpercap'])"
   ]
  },
  {
   "cell_type": "code",
   "execution_count": 11,
   "metadata": {},
   "outputs": [
    {
     "data": {
      "image/png": "[encoded data removed]",
      "text/plain": [
       "<Figure size 432x288 with 1 Axes>"
      ]
     },
     "metadata": {
      "needs_background": "light"
     },
     "output_type": "display_data"
    }
   ],
   "source": [
    "#Hacer un gráfico de los puntos\n",
    "fig = plt.figure()\n",
    "ax1 = fig.add_subplot(1, 1, 1)\n",
    "ax1.scatter(df_countries['GastoEduc'],df_countries['ln_Pibpercap'])\n",
    "plt.box(on=None)\n",
    "plt.show()"
   ]
  },
  {
   "cell_type": "code",
   "execution_count": 12,
   "metadata": {
    "scrolled": false
   },
   "outputs": [
    {
     "name": "stdout",
     "output_type": "stream",
     "text": [
      "REGRESIÓN LINEAL CLÁSICA - MODELO2\n",
      "                            OLS Regression Results                            \n",
      "==============================================================================\n",
      "Dep. Variable:           ln_Pibpercap   R-squared:                       0.032\n",
      "Model:                            OLS   Adj. R-squared:                  0.025\n",
      "Method:                 Least Squares   F-statistic:                     4.633\n",
      "Date:                Tue, 22 Mar 2022   Prob (F-statistic):             0.0331\n",
      "Time:                        13:59:07   Log-Likelihood:                -247.00\n",
      "No. Observations:                 140   AIC:                             498.0\n",
      "Df Residuals:                     138   BIC:                             503.9\n",
      "Df Model:                           1                                         \n",
      "Covariance Type:            nonrobust                                         \n",
      "==============================================================================\n",
      "                 coef    std err          t      P>|t|      [0.025      0.975]\n",
      "------------------------------------------------------------------------------\n",
      "Intercept      8.0029      0.340     23.560      0.000       7.331       8.675\n",
      "GastoEduc      0.1503      0.070      2.153      0.033       0.012       0.288\n",
      "==============================================================================\n",
      "Omnibus:                       12.236   Durbin-Watson:                   1.598\n",
      "Prob(Omnibus):                  0.002   Jarque-Bera (JB):                4.416\n",
      "Skew:                          -0.008   Prob(JB):                        0.110\n",
      "Kurtosis:                       2.130   Cond. No.                         14.3\n",
      "==============================================================================\n",
      "\n",
      "Warnings:\n",
      "[1] Standard Errors assume that the covariance matrix of the errors is correctly specified.\n",
      "-------------------------------------------------------------\n"
     ]
    }
   ],
   "source": [
    "model2 = 'ln_Pibpercap ~ GastoEduc'\n",
    "lm2   = sm.ols(formula = model2, data = df_countries).fit()\n",
    "print('REGRESIÓN LINEAL CLÁSICA - MODELO2')\n",
    "print(lm2.summary())\n",
    "print('-------------------------------------------------------------')"
   ]
  },
  {
   "cell_type": "code",
   "execution_count": 13,
   "metadata": {
    "scrolled": true
   },
   "outputs": [
    {
     "data": {
      "image/png": "[encoded data removed]",
      "text/plain": [
       "<Figure size 432x288 with 1 Axes>"
      ]
     },
     "metadata": {
      "needs_background": "light"
     },
     "output_type": "display_data"
    }
   ],
   "source": [
    "indicator_id3 = 'SP.DYN.LE00.IN' #Life expectacy\n",
    "\n",
    "#Descarga de datos\n",
    "life_expectancy = wb.download(indicator=indicator_id3, start=start, end=end, country='all')\n",
    "life_expectancy.reset_index(inplace=True)\n",
    "life_expectancy_2018 = life_expectancy[life_expectancy['year']=='2018']\n",
    "\n",
    "\n",
    "df_TOTAL2 = pd.merge(life_expectancy_2018,gdp_per_capita_2018[['country','NY.GDP.PCAP.KD']], left_on='country',right_on='country', how='left')\n",
    "df_TOTAL2.dropna(inplace=True)\n",
    "df_countries2 = df_TOTAL2.iloc[49:200]\n",
    "df_countries2.rename(columns={'SP.DYN.LE00.IN': 'ExpVida', indicator_id1: 'Pibpercap'}, inplace=True)\n",
    "df_countries2['ln_Pibpercap'] = np.log(df_countries2['Pibpercap'])\n",
    "\n",
    "#Hacer un gráfico de los puntos\n",
    "fig = plt.figure()\n",
    "ax1 = fig.add_subplot(1, 1, 1)\n",
    "ax1.scatter(df_countries2['ExpVida'],df_countries2['ln_Pibpercap'])\n",
    "plt.box(on=None)\n",
    "plt.show()\n"
   ]
  },
  {
   "cell_type": "code",
   "execution_count": 14,
   "metadata": {},
   "outputs": [
    {
     "name": "stdout",
     "output_type": "stream",
     "text": [
      "REGRESIÓN LINEAL CLÁSICA - MODELO3\n",
      "                            OLS Regression Results                            \n",
      "==============================================================================\n",
      "Dep. Variable:                ExpVida   R-squared:                       0.715\n",
      "Model:                            OLS   Adj. R-squared:                  0.713\n",
      "Method:                 Least Squares   F-statistic:                     373.2\n",
      "Date:                Tue, 22 Mar 2022   Prob (F-statistic):           2.05e-42\n",
      "Time:                        13:59:14   Log-Likelihood:                -427.29\n",
      "No. Observations:                 151   AIC:                             858.6\n",
      "Df Residuals:                     149   BIC:                             864.6\n",
      "Df Model:                           1                                         \n",
      "Covariance Type:            nonrobust                                         \n",
      "================================================================================\n",
      "                   coef    std err          t      P>|t|      [0.025      0.975]\n",
      "--------------------------------------------------------------------------------\n",
      "Intercept       32.3032      2.120     15.240      0.000      28.115      36.492\n",
      "ln_Pibpercap     4.6297      0.240     19.318      0.000       4.156       5.103\n",
      "==============================================================================\n",
      "Omnibus:                       31.127   Durbin-Watson:                   2.236\n",
      "Prob(Omnibus):                  0.000   Jarque-Bera (JB):               47.370\n",
      "Skew:                          -1.067   Prob(JB):                     5.17e-11\n",
      "Kurtosis:                       4.726   Cond. No.                         56.5\n",
      "==============================================================================\n",
      "\n",
      "Warnings:\n",
      "[1] Standard Errors assume that the covariance matrix of the errors is correctly specified.\n",
      "-------------------------------------------------------------\n"
     ]
    }
   ],
   "source": [
    "model3 = 'ExpVida ~ ln_Pibpercap'\n",
    "lm3   = sm.ols(formula = model3, data = df_countries2).fit()\n",
    "print('REGRESIÓN LINEAL CLÁSICA - MODELO3')\n",
    "print(lm3.summary())\n",
    "print('-------------------------------------------------------------')"
   ]
  },
  {
   "cell_type": "code",
   "execution_count": 34,
   "metadata": {},
   "outputs": [
    {
     "data": {
      "image/png": "[encoded data removed]",
      "text/plain": [
       "<Figure size 720x360 with 2 Axes>"
      ]
     },
     "metadata": {
      "needs_background": "light"
     },
     "output_type": "display_data"
    }
   ],
   "source": [
    "from scipy import stats\n",
    "\n",
    "fig, ax = plt.subplots(nrows=1, ncols=2,figsize=(10,5))\n",
    "stats.probplot(x=df_countries2['Pibpercap'], dist = \"norm\", plot = ax[0])\n",
    "stats.probplot(x=df_countries2['ln_Pibpercap'], dist = \"norm\", plot = ax[1])\n",
    "plt.show()\n",
    "\n",
    "# fig, ax = plt.subplots(nrows=1, ncols=2,figsize=(16,8))\n",
    "# sns.scatterplot(x='FX_EM',y='Residuals',data=df_regresion2,ax=ax[0])"
   ]
  },
  {
   "cell_type": "code",
   "execution_count": 16,
   "metadata": {},
   "outputs": [
    {
     "data": {
      "text/plain": [
       "Text(0.5, 1.0, 'PIB PER CAP vs. EXP VIDA')"
      ]
     },
     "execution_count": 16,
     "metadata": {},
     "output_type": "execute_result"
    },
    {
     "data": {
      "image/png": "[encoded data removed]",
      "text/plain": [
       "<Figure size 720x360 with 1 Axes>"
      ]
     },
     "metadata": {
      "needs_background": "light"
     },
     "output_type": "display_data"
    }
   ],
   "source": [
    "sns.lmplot(x='ln_Pibpercap',y='ExpVida',data=df_countries2, \n",
    "           line_kws = {'color': \"red\"} ,aspect= 2)\n",
    "plt.title(\"PIB PER CAP vs. EXP VIDA\")"
   ]
  },
  {
   "cell_type": "code",
   "execution_count": 23,
   "metadata": {},
   "outputs": [
    {
     "data": {
      "image/png": "[encoded data removed]",
      "text/plain": [
       "<Figure size 360x360 with 1 Axes>"
      ]
     },
     "metadata": {
      "needs_background": "light"
     },
     "output_type": "display_data"
    }
   ],
   "source": [
    "sns.lmplot(x = 'ln_Pibpercap', y = 'ExpVida', data = df_countries2, scatter_kws = {'color': (174/255,199/255,14/255)})\n",
    "plt.title(\"PIB PER CAP vs. EXP VIDA\", fontsize=20, verticalalignment='bottom')\n",
    "plt.axhline(df_countries2['ExpVida'].mean(), ls='--',color = 'b')\n",
    "plt.xlabel(\"ln_Pibpercap\")\n",
    "plt.ylabel(\"ExpVida\");"
   ]
  },
  {
   "cell_type": "code",
   "execution_count": 17,
   "metadata": {},
   "outputs": [
    {
     "data": {
      "text/plain": [
       "0.95"
      ]
     },
     "execution_count": 17,
     "metadata": {},
     "output_type": "execute_result"
    }
   ],
   "source": [
    "price,fitted_lambda = stats.boxcox(df_countries2['ln_Pibpercap'])\n",
    "round(fitted_lambda,2)"
   ]
  },
  {
   "cell_type": "code",
   "execution_count": 18,
   "metadata": {},
   "outputs": [
    {
     "data": {
      "text/plain": [
       "[<matplotlib.lines.Line2D at 0x1b396183668>]"
      ]
     },
     "execution_count": 18,
     "metadata": {},
     "output_type": "execute_result"
    },
    {
     "data": {
      "image/png": "[encoded data removed]",
      "text/plain": [
       "<Figure size 432x288 with 1 Axes>"
      ]
     },
     "metadata": {
      "needs_background": "light"
     },
     "output_type": "display_data"
    }
   ],
   "source": [
    "plt.plot(lm3.resid,marker='o',linestyle='None',color='dimgrey')"
   ]
  },
  {
   "cell_type": "code",
   "execution_count": 19,
   "metadata": {},
   "outputs": [
    {
     "data": {
      "text/plain": [
       "<matplotlib.legend.Legend at 0x1b3964c7438>"
      ]
     },
     "execution_count": 19,
     "metadata": {},
     "output_type": "execute_result"
    },
    {
     "data": {
      "image/png": "[encoded data removed]",
      "text/plain": [
       "<Figure size 432x288 with 1 Axes>"
      ]
     },
     "metadata": {
      "needs_background": "light"
     },
     "output_type": "display_data"
    }
   ],
   "source": [
    "plt.hist(lm3.resid, \n",
    "    density=True,     # the histogram integrates to 1 \n",
    "                      # (so it can be compared to the normal distribution)\n",
    "    bins=100,         #  draw a histogram with 100 bins of equal width\n",
    "    label=\"residuals\" # label for legend\n",
    "    )\n",
    "# now plot the normal distribution for comparison\n",
    "xx = np.linspace(lm3.resid.min(), lm3.resid.max(), num=1000)\n",
    "plt.plot(xx, scipy.stats.norm.pdf(xx, loc=0.0, scale=np.sqrt(lm3.scale)),\n",
    "    label=\"normal distribution\")\n",
    "outliers = np.abs(lm3.resid)>4*np.sqrt(lm3.scale)\n",
    "sns.rugplot(lm3.resid[outliers],\n",
    "            color=\"C5\", # otherwise the rugplot has the same color as the histogram\n",
    "            label=\"outliers\")\n",
    "plt.legend(loc=\"upper right\")"
   ]
  },
  {
   "cell_type": "code",
   "execution_count": 35,
   "metadata": {},
   "outputs": [
    {
     "data": {
      "image/png": "[encoded data removed]",
      "text/plain": [
       "<Figure size 432x288 with 1 Axes>"
      ]
     },
     "execution_count": 35,
     "metadata": {},
     "output_type": "execute_result"
    },
    {
     "data": {
      "image/png": "[encoded data removed]",
      "text/plain": [
       "<Figure size 432x288 with 1 Axes>"
      ]
     },
     "metadata": {
      "needs_background": "light"
     },
     "output_type": "display_data"
    }
   ],
   "source": [
    "import statsmodels.api as sm\n",
    "sm.qqplot(lm3.resid, line=\"s\")"
   ]
  },
  {
   "cell_type": "code",
   "execution_count": 20,
   "metadata": {},
   "outputs": [
    {
     "data": {
      "image/png": "[encoded data removed]",
      "text/plain": [
       "<Figure size 576x288 with 1 Axes>"
      ]
     },
     "metadata": {
      "needs_background": "light"
     },
     "output_type": "display_data"
    }
   ],
   "source": [
    "bins = np.array([0, 1000, 2000, 3000, 4000])\n",
    "df_countries2['Residuals']=lm3.resid.values\n",
    "fig, ax = plt.subplots(nrows=1, ncols=1,figsize=(8,4))\n",
    "sns.scatterplot(x='ln_Pibpercap',y='Residuals',data=df_countries2)\n",
    "plt.box(on=None)"
   ]
  },
  {
   "cell_type": "code",
   "execution_count": 21,
   "metadata": {},
   "outputs": [
    {
     "name": "stderr",
     "output_type": "stream",
     "text": [
      "C:\\Users\\andrgome\\AppData\\Local\\Continuum\\anaconda3\\lib\\site-packages\\sklearn\\linear_model\\least_angle.py:35: DeprecationWarning: `np.float` is a deprecated alias for the builtin `float`. To silence this warning, use `float` by itself. Doing this will not modify any behavior and is safe. If you specifically wanted the numpy scalar type, use `np.float64` here.\n",
      "Deprecated in NumPy 1.20; for more details and guidance: https://numpy.org/devdocs/release/1.20.0-notes.html#deprecations\n",
      "  eps=np.finfo(np.float).eps,\n",
      "C:\\Users\\andrgome\\AppData\\Local\\Continuum\\anaconda3\\lib\\site-packages\\sklearn\\linear_model\\least_angle.py:597: DeprecationWarning: `np.float` is a deprecated alias for the builtin `float`. To silence this warning, use `float` by itself. Doing this will not modify any behavior and is safe. If you specifically wanted the numpy scalar type, use `np.float64` here.\n",
      "Deprecated in NumPy 1.20; for more details and guidance: https://numpy.org/devdocs/release/1.20.0-notes.html#deprecations\n",
      "  eps=np.finfo(np.float).eps, copy_X=True, fit_path=True,\n",
      "C:\\Users\\andrgome\\AppData\\Local\\Continuum\\anaconda3\\lib\\site-packages\\sklearn\\linear_model\\least_angle.py:836: DeprecationWarning: `np.float` is a deprecated alias for the builtin `float`. To silence this warning, use `float` by itself. Doing this will not modify any behavior and is safe. If you specifically wanted the numpy scalar type, use `np.float64` here.\n",
      "Deprecated in NumPy 1.20; for more details and guidance: https://numpy.org/devdocs/release/1.20.0-notes.html#deprecations\n",
      "  eps=np.finfo(np.float).eps, copy_X=True, fit_path=True,\n",
      "C:\\Users\\andrgome\\AppData\\Local\\Continuum\\anaconda3\\lib\\site-packages\\sklearn\\linear_model\\least_angle.py:862: DeprecationWarning: `np.float` is a deprecated alias for the builtin `float`. To silence this warning, use `float` by itself. Doing this will not modify any behavior and is safe. If you specifically wanted the numpy scalar type, use `np.float64` here.\n",
      "Deprecated in NumPy 1.20; for more details and guidance: https://numpy.org/devdocs/release/1.20.0-notes.html#deprecations\n",
      "  eps=np.finfo(np.float).eps, positive=False):\n",
      "C:\\Users\\andrgome\\AppData\\Local\\Continuum\\anaconda3\\lib\\site-packages\\sklearn\\linear_model\\least_angle.py:1097: DeprecationWarning: `np.float` is a deprecated alias for the builtin `float`. To silence this warning, use `float` by itself. Doing this will not modify any behavior and is safe. If you specifically wanted the numpy scalar type, use `np.float64` here.\n",
      "Deprecated in NumPy 1.20; for more details and guidance: https://numpy.org/devdocs/release/1.20.0-notes.html#deprecations\n",
      "  max_n_alphas=1000, n_jobs=None, eps=np.finfo(np.float).eps,\n",
      "C:\\Users\\andrgome\\AppData\\Local\\Continuum\\anaconda3\\lib\\site-packages\\sklearn\\linear_model\\least_angle.py:1344: DeprecationWarning: `np.float` is a deprecated alias for the builtin `float`. To silence this warning, use `float` by itself. Doing this will not modify any behavior and is safe. If you specifically wanted the numpy scalar type, use `np.float64` here.\n",
      "Deprecated in NumPy 1.20; for more details and guidance: https://numpy.org/devdocs/release/1.20.0-notes.html#deprecations\n",
      "  max_n_alphas=1000, n_jobs=None, eps=np.finfo(np.float).eps,\n",
      "C:\\Users\\andrgome\\AppData\\Local\\Continuum\\anaconda3\\lib\\site-packages\\sklearn\\linear_model\\least_angle.py:1480: DeprecationWarning: `np.float` is a deprecated alias for the builtin `float`. To silence this warning, use `float` by itself. Doing this will not modify any behavior and is safe. If you specifically wanted the numpy scalar type, use `np.float64` here.\n",
      "Deprecated in NumPy 1.20; for more details and guidance: https://numpy.org/devdocs/release/1.20.0-notes.html#deprecations\n",
      "  eps=np.finfo(np.float).eps, copy_X=True, positive=False):\n",
      "C:\\Users\\andrgome\\AppData\\Local\\Continuum\\anaconda3\\lib\\site-packages\\sklearn\\linear_model\\randomized_l1.py:152: DeprecationWarning: `np.float` is a deprecated alias for the builtin `float`. To silence this warning, use `float` by itself. Doing this will not modify any behavior and is safe. If you specifically wanted the numpy scalar type, use `np.float64` here.\n",
      "Deprecated in NumPy 1.20; for more details and guidance: https://numpy.org/devdocs/release/1.20.0-notes.html#deprecations\n",
      "  precompute=False, eps=np.finfo(np.float).eps,\n",
      "C:\\Users\\andrgome\\AppData\\Local\\Continuum\\anaconda3\\lib\\site-packages\\sklearn\\linear_model\\randomized_l1.py:320: DeprecationWarning: `np.float` is a deprecated alias for the builtin `float`. To silence this warning, use `float` by itself. Doing this will not modify any behavior and is safe. If you specifically wanted the numpy scalar type, use `np.float64` here.\n",
      "Deprecated in NumPy 1.20; for more details and guidance: https://numpy.org/devdocs/release/1.20.0-notes.html#deprecations\n",
      "  eps=np.finfo(np.float).eps, random_state=None,\n",
      "C:\\Users\\andrgome\\AppData\\Local\\Continuum\\anaconda3\\lib\\site-packages\\sklearn\\linear_model\\randomized_l1.py:580: DeprecationWarning: `np.float` is a deprecated alias for the builtin `float`. To silence this warning, use `float` by itself. Doing this will not modify any behavior and is safe. If you specifically wanted the numpy scalar type, use `np.float64` here.\n",
      "Deprecated in NumPy 1.20; for more details and guidance: https://numpy.org/devdocs/release/1.20.0-notes.html#deprecations\n",
      "  eps=4 * np.finfo(np.float).eps, n_jobs=None,\n"
     ]
    },
    {
     "ename": "KeyError",
     "evalue": "'SE.XPD.TOTL.GD.ZS'",
     "output_type": "error",
     "traceback": [
      "\u001b[1;31m---------------------------------------------------------------------------\u001b[0m",
      "\u001b[1;31mKeyError\u001b[0m                                  Traceback (most recent call last)",
      "\u001b[1;32m~\\AppData\\Roaming\\Python\\Python37\\site-packages\\pandas\\core\\indexes\\base.py\u001b[0m in \u001b[0;36mget_loc\u001b[1;34m(self, key, method, tolerance)\u001b[0m\n\u001b[0;32m   3079\u001b[0m             \u001b[1;32mtry\u001b[0m\u001b[1;33m:\u001b[0m\u001b[1;33m\u001b[0m\u001b[1;33m\u001b[0m\u001b[0m\n\u001b[1;32m-> 3080\u001b[1;33m                 \u001b[1;32mreturn\u001b[0m \u001b[0mself\u001b[0m\u001b[1;33m.\u001b[0m\u001b[0m_engine\u001b[0m\u001b[1;33m.\u001b[0m\u001b[0mget_loc\u001b[0m\u001b[1;33m(\u001b[0m\u001b[0mcasted_key\u001b[0m\u001b[1;33m)\u001b[0m\u001b[1;33m\u001b[0m\u001b[1;33m\u001b[0m\u001b[0m\n\u001b[0m\u001b[0;32m   3081\u001b[0m             \u001b[1;32mexcept\u001b[0m \u001b[0mKeyError\u001b[0m \u001b[1;32mas\u001b[0m \u001b[0merr\u001b[0m\u001b[1;33m:\u001b[0m\u001b[1;33m\u001b[0m\u001b[1;33m\u001b[0m\u001b[0m\n",
      "\u001b[1;32mpandas\\_libs\\index.pyx\u001b[0m in \u001b[0;36mpandas._libs.index.IndexEngine.get_loc\u001b[1;34m()\u001b[0m\n",
      "\u001b[1;32mpandas\\_libs\\index.pyx\u001b[0m in \u001b[0;36mpandas._libs.index.IndexEngine.get_loc\u001b[1;34m()\u001b[0m\n",
      "\u001b[1;32mpandas\\_libs\\hashtable_class_helper.pxi\u001b[0m in \u001b[0;36mpandas._libs.hashtable.PyObjectHashTable.get_item\u001b[1;34m()\u001b[0m\n",
      "\u001b[1;32mpandas\\_libs\\hashtable_class_helper.pxi\u001b[0m in \u001b[0;36mpandas._libs.hashtable.PyObjectHashTable.get_item\u001b[1;34m()\u001b[0m\n",
      "\u001b[1;31mKeyError\u001b[0m: 'SE.XPD.TOTL.GD.ZS'",
      "\nThe above exception was the direct cause of the following exception:\n",
      "\u001b[1;31mKeyError\u001b[0m                                  Traceback (most recent call last)",
      "\u001b[1;32m<ipython-input-21-0035aff7558b>\u001b[0m in \u001b[0;36m<module>\u001b[1;34m\u001b[0m\n\u001b[0;32m      1\u001b[0m \u001b[1;32mfrom\u001b[0m \u001b[0msklearn\u001b[0m\u001b[1;33m.\u001b[0m\u001b[0mlinear_model\u001b[0m \u001b[1;32mimport\u001b[0m \u001b[0mLinearRegression\u001b[0m\u001b[1;33m\u001b[0m\u001b[1;33m\u001b[0m\u001b[0m\n\u001b[0;32m      2\u001b[0m \u001b[1;33m\u001b[0m\u001b[0m\n\u001b[1;32m----> 3\u001b[1;33m \u001b[0mX\u001b[0m \u001b[1;33m=\u001b[0m \u001b[0mdf_countries\u001b[0m\u001b[1;33m[\u001b[0m\u001b[1;34m'SE.XPD.TOTL.GD.ZS'\u001b[0m\u001b[1;33m]\u001b[0m\u001b[1;33m\u001b[0m\u001b[1;33m\u001b[0m\u001b[0m\n\u001b[0m\u001b[0;32m      4\u001b[0m \u001b[0my\u001b[0m \u001b[1;33m=\u001b[0m \u001b[0mdf_countries\u001b[0m\u001b[1;33m[\u001b[0m\u001b[1;34m'NY.GDP.PCAP.KD'\u001b[0m\u001b[1;33m]\u001b[0m\u001b[1;33m\u001b[0m\u001b[1;33m\u001b[0m\u001b[0m\n\u001b[0;32m      5\u001b[0m \u001b[1;33m\u001b[0m\u001b[0m\n",
      "\u001b[1;32m~\\AppData\\Roaming\\Python\\Python37\\site-packages\\pandas\\core\\frame.py\u001b[0m in \u001b[0;36m__getitem__\u001b[1;34m(self, key)\u001b[0m\n\u001b[0;32m   3022\u001b[0m             \u001b[1;32mif\u001b[0m \u001b[0mself\u001b[0m\u001b[1;33m.\u001b[0m\u001b[0mcolumns\u001b[0m\u001b[1;33m.\u001b[0m\u001b[0mnlevels\u001b[0m \u001b[1;33m>\u001b[0m \u001b[1;36m1\u001b[0m\u001b[1;33m:\u001b[0m\u001b[1;33m\u001b[0m\u001b[1;33m\u001b[0m\u001b[0m\n\u001b[0;32m   3023\u001b[0m                 \u001b[1;32mreturn\u001b[0m \u001b[0mself\u001b[0m\u001b[1;33m.\u001b[0m\u001b[0m_getitem_multilevel\u001b[0m\u001b[1;33m(\u001b[0m\u001b[0mkey\u001b[0m\u001b[1;33m)\u001b[0m\u001b[1;33m\u001b[0m\u001b[1;33m\u001b[0m\u001b[0m\n\u001b[1;32m-> 3024\u001b[1;33m             \u001b[0mindexer\u001b[0m \u001b[1;33m=\u001b[0m \u001b[0mself\u001b[0m\u001b[1;33m.\u001b[0m\u001b[0mcolumns\u001b[0m\u001b[1;33m.\u001b[0m\u001b[0mget_loc\u001b[0m\u001b[1;33m(\u001b[0m\u001b[0mkey\u001b[0m\u001b[1;33m)\u001b[0m\u001b[1;33m\u001b[0m\u001b[1;33m\u001b[0m\u001b[0m\n\u001b[0m\u001b[0;32m   3025\u001b[0m             \u001b[1;32mif\u001b[0m \u001b[0mis_integer\u001b[0m\u001b[1;33m(\u001b[0m\u001b[0mindexer\u001b[0m\u001b[1;33m)\u001b[0m\u001b[1;33m:\u001b[0m\u001b[1;33m\u001b[0m\u001b[1;33m\u001b[0m\u001b[0m\n\u001b[0;32m   3026\u001b[0m                 \u001b[0mindexer\u001b[0m \u001b[1;33m=\u001b[0m \u001b[1;33m[\u001b[0m\u001b[0mindexer\u001b[0m\u001b[1;33m]\u001b[0m\u001b[1;33m\u001b[0m\u001b[1;33m\u001b[0m\u001b[0m\n",
      "\u001b[1;32m~\\AppData\\Roaming\\Python\\Python37\\site-packages\\pandas\\core\\indexes\\base.py\u001b[0m in \u001b[0;36mget_loc\u001b[1;34m(self, key, method, tolerance)\u001b[0m\n\u001b[0;32m   3080\u001b[0m                 \u001b[1;32mreturn\u001b[0m \u001b[0mself\u001b[0m\u001b[1;33m.\u001b[0m\u001b[0m_engine\u001b[0m\u001b[1;33m.\u001b[0m\u001b[0mget_loc\u001b[0m\u001b[1;33m(\u001b[0m\u001b[0mcasted_key\u001b[0m\u001b[1;33m)\u001b[0m\u001b[1;33m\u001b[0m\u001b[1;33m\u001b[0m\u001b[0m\n\u001b[0;32m   3081\u001b[0m             \u001b[1;32mexcept\u001b[0m \u001b[0mKeyError\u001b[0m \u001b[1;32mas\u001b[0m \u001b[0merr\u001b[0m\u001b[1;33m:\u001b[0m\u001b[1;33m\u001b[0m\u001b[1;33m\u001b[0m\u001b[0m\n\u001b[1;32m-> 3082\u001b[1;33m                 \u001b[1;32mraise\u001b[0m \u001b[0mKeyError\u001b[0m\u001b[1;33m(\u001b[0m\u001b[0mkey\u001b[0m\u001b[1;33m)\u001b[0m \u001b[1;32mfrom\u001b[0m \u001b[0merr\u001b[0m\u001b[1;33m\u001b[0m\u001b[1;33m\u001b[0m\u001b[0m\n\u001b[0m\u001b[0;32m   3083\u001b[0m \u001b[1;33m\u001b[0m\u001b[0m\n\u001b[0;32m   3084\u001b[0m         \u001b[1;32mif\u001b[0m \u001b[0mtolerance\u001b[0m \u001b[1;32mis\u001b[0m \u001b[1;32mnot\u001b[0m \u001b[1;32mNone\u001b[0m\u001b[1;33m:\u001b[0m\u001b[1;33m\u001b[0m\u001b[1;33m\u001b[0m\u001b[0m\n",
      "\u001b[1;31mKeyError\u001b[0m: 'SE.XPD.TOTL.GD.ZS'"
     ]
    }
   ],
   "source": [
    "from sklearn.linear_model import LinearRegression\n",
    "\n",
    "X = df_countries['SE.XPD.TOTL.GD.ZS']\n",
    "y = df_countries['NY.GDP.PCAP.KD']\n",
    "\n",
    "# X_train =  X.iloc[0:120]\n",
    "# X_test = X.iloc[121:150]\n",
    "# y_train= y.iloc[0:120]\n",
    "# y_test = y.iloc[121:150]\n",
    "\n",
    "X_train =  X[0:120]\n",
    "X_test = X[121:150]\n",
    "y_train= y[0:120]\n",
    "y_test = y[121:150]\n",
    "\n",
    "\n",
    "linear  = LinearRegression(normalize=True)\n",
    "linear.fit(X_train,y_train)\n",
    "print('R2 =',linear.score(X_test,y_test))"
   ]
  },
  {
   "cell_type": "code",
   "execution_count": null,
   "metadata": {},
   "outputs": [],
   "source": [
    "print('w1 =',linear.coef_)\n",
    "print('w0 =',linear.intercept_)"
   ]
  },
  {
   "cell_type": "code",
   "execution_count": null,
   "metadata": {},
   "outputs": [],
   "source": [
    "y_pred = linear.predict(X_test)\n",
    "\n",
    "plt.scatter(X_test, y_test,  color='black',label=r'datos test')\n",
    "plt.scatter(X_train, y_train,  color='red',alpha=0.4,label=r'datos entrenamiento')\n",
    "plt.plot(X_test, y_pred, color='blue',label=r'predicción')\n",
    "plt.legend(loc='lower right')\n",
    "\n",
    "plt.xlabel(r'Engine size')\n",
    "plt.ylabel(r'Price')\n",
    "\n",
    "plt.show()"
   ]
  },
  {
   "cell_type": "markdown",
   "metadata": {},
   "source": [
    "> Text that is a quote\n",
    "\n",
    "`Here is some code!`\n",
    "\n",
    "***\n",
    "\n",
    "Here is some important text!\n",
    "\n",
    "***\n",
    "\n",
    "\n",
    "Our program website can be found at <a href=\"http://earthdatascience.org\" target=\"_blank\">this link</a>.\n",
    "\n",
    "<div class=\"alert alert-block alert-danger\">\n",
    "<b>Just don't:</b> In general, avoid the red boxes. These should only be\n",
    "used for actions that might cause data loss or another major issue.\n",
    "</div>\n",
    "\n",
    "<div class=\"alert alert-block alert-success\">\n",
    "<b>Up to you:</b> Use green boxes sparingly, and only for some specific \n",
    "purpose that the other boxes can't cover. For example, if you have a lot \n",
    "of related content to link to, maybe you decide to use green boxes for \n",
    "related links from each section of a notebook.\n",
    "</div>\n",
    "\n",
    "<div class=\"alert alert-block alert-info\">\n",
    "<b>Tip:</b> Use blue boxes (alert-info) for tips and notes. \n",
    "If it’s a note, you don’t have to include the word “Note”.\n",
    "</div>\n",
    "\n",
    "<div class=\"alert alert-block alert-warning\">\n",
    "<b>Example:</b> Use yellow boxes for examples that are not \n",
    "inside code cells, or use for mathematical formulas if needed.\n",
    "</div>\n",
    "\n"
   ]
  },
  {
   "cell_type": "code",
   "execution_count": null,
   "metadata": {},
   "outputs": [],
   "source": [
    "X_train"
   ]
  }
 ],
 "metadata": {
  "kernelspec": {
   "display_name": "Python 3",
   "language": "python",
   "name": "python3"
  },
  "language_info": {
   "codemirror_mode": {
    "name": "ipython",
    "version": 3
   },
   "file_extension": ".py",
   "mimetype": "text/x-python",
   "name": "python",
   "nbconvert_exporter": "python",
   "pygments_lexer": "ipython3",
   "version": "3.7.1"
  }
 },
 "nbformat": 4,
 "nbformat_minor": 2
}
